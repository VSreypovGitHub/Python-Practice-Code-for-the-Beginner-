{
 "cells": [
  {
   "cell_type": "code",
   "execution_count": 946,
   "metadata": {},
   "outputs": [],
   "source": [
    "import numpy as np"
   ]
  },
  {
   "cell_type": "code",
   "execution_count": 947,
   "metadata": {},
   "outputs": [],
   "source": [
    "import pandas as pd"
   ]
  },
  {
   "cell_type": "code",
   "execution_count": 948,
   "metadata": {},
   "outputs": [],
   "source": [
    "#Getting Started with Python"
   ]
  },
  {
   "cell_type": "code",
   "execution_count": 949,
   "metadata": {},
   "outputs": [
    {
     "data": {
      "text/plain": [
       "5"
      ]
     },
     "execution_count": 949,
     "metadata": {},
     "output_type": "execute_result"
    }
   ],
   "source": [
    "2 + 3"
   ]
  },
  {
   "cell_type": "code",
   "execution_count": 950,
   "metadata": {},
   "outputs": [
    {
     "data": {
      "text/plain": [
       "1"
      ]
     },
     "execution_count": 950,
     "metadata": {},
     "output_type": "execute_result"
    }
   ],
   "source": [
    "9 - 8"
   ]
  },
  {
   "cell_type": "code",
   "execution_count": 951,
   "metadata": {},
   "outputs": [
    {
     "data": {
      "text/plain": [
       "24"
      ]
     },
     "execution_count": 951,
     "metadata": {},
     "output_type": "execute_result"
    }
   ],
   "source": [
    "6 * 4 "
   ]
  },
  {
   "cell_type": "code",
   "execution_count": 952,
   "metadata": {},
   "outputs": [
    {
     "data": {
      "text/plain": [
       "2.0"
      ]
     },
     "execution_count": 952,
     "metadata": {},
     "output_type": "execute_result"
    }
   ],
   "source": [
    "8 / 4"
   ]
  },
  {
   "cell_type": "code",
   "execution_count": 953,
   "metadata": {},
   "outputs": [
    {
     "data": {
      "text/plain": [
       "2.5"
      ]
     },
     "execution_count": 953,
     "metadata": {},
     "output_type": "execute_result"
    }
   ],
   "source": [
    "5 / 2"
   ]
  },
  {
   "cell_type": "code",
   "execution_count": 954,
   "metadata": {},
   "outputs": [
    {
     "data": {
      "text/plain": [
       "2"
      ]
     },
     "execution_count": 954,
     "metadata": {},
     "output_type": "execute_result"
    }
   ],
   "source": [
    "5 // 2"
   ]
  },
  {
   "cell_type": "code",
   "execution_count": 955,
   "metadata": {},
   "outputs": [
    {
     "data": {
      "text/plain": [
       "7"
      ]
     },
     "execution_count": 955,
     "metadata": {},
     "output_type": "execute_result"
    }
   ],
   "source": [
    "8 + 9 - 10"
   ]
  },
  {
   "cell_type": "code",
   "execution_count": 956,
   "metadata": {},
   "outputs": [
    {
     "data": {
      "text/plain": [
       "14"
      ]
     },
     "execution_count": 956,
     "metadata": {},
     "output_type": "execute_result"
    }
   ],
   "source": [
    "8 + 2 * 3"
   ]
  },
  {
   "cell_type": "code",
   "execution_count": 957,
   "metadata": {},
   "outputs": [
    {
     "data": {
      "text/plain": [
       "30"
      ]
     },
     "execution_count": 957,
     "metadata": {},
     "output_type": "execute_result"
    }
   ],
   "source": [
    "(8 + 2) * 3"
   ]
  },
  {
   "cell_type": "code",
   "execution_count": 958,
   "metadata": {},
   "outputs": [
    {
     "data": {
      "text/plain": [
       "3"
      ]
     },
     "execution_count": 958,
     "metadata": {},
     "output_type": "execute_result"
    }
   ],
   "source": [
    "10 // 3"
   ]
  },
  {
   "cell_type": "code",
   "execution_count": 959,
   "metadata": {},
   "outputs": [
    {
     "data": {
      "text/plain": [
       "3.3333333333333335"
      ]
     },
     "execution_count": 959,
     "metadata": {},
     "output_type": "execute_result"
    }
   ],
   "source": [
    "10 / 3"
   ]
  },
  {
   "cell_type": "code",
   "execution_count": 960,
   "metadata": {},
   "outputs": [
    {
     "data": {
      "text/plain": [
       "1"
      ]
     },
     "execution_count": 960,
     "metadata": {},
     "output_type": "execute_result"
    }
   ],
   "source": [
    "10 % 3"
   ]
  },
  {
   "cell_type": "code",
   "execution_count": 961,
   "metadata": {},
   "outputs": [
    {
     "data": {
      "text/plain": [
       "'sreypov'"
      ]
     },
     "execution_count": 961,
     "metadata": {},
     "output_type": "execute_result"
    }
   ],
   "source": [
    "'sreypov'"
   ]
  },
  {
   "cell_type": "code",
   "execution_count": 962,
   "metadata": {},
   "outputs": [
    {
     "name": "stdout",
     "output_type": "stream",
     "text": [
      "sreypov\n"
     ]
    }
   ],
   "source": [
    "\"sreypov\"\n",
    "print(\"sreypov\")\n"
   ]
  },
  {
   "cell_type": "code",
   "execution_count": 963,
   "metadata": {},
   "outputs": [
    {
     "name": "stdout",
     "output_type": "stream",
     "text": [
      "Hello world\n"
     ]
    }
   ],
   "source": [
    "print(\"Hello world\")"
   ]
  },
  {
   "cell_type": "code",
   "execution_count": 964,
   "metadata": {},
   "outputs": [
    {
     "name": "stdout",
     "output_type": "stream",
     "text": [
      "Thank you very much\n"
     ]
    }
   ],
   "source": [
    "print('Thank you very much')"
   ]
  },
  {
   "cell_type": "code",
   "execution_count": 965,
   "metadata": {},
   "outputs": [
    {
     "data": {
      "text/plain": [
       "'Hello world'"
      ]
     },
     "execution_count": 965,
     "metadata": {},
     "output_type": "execute_result"
    }
   ],
   "source": [
    "\"Hello world\""
   ]
  },
  {
   "cell_type": "code",
   "execution_count": 966,
   "metadata": {},
   "outputs": [
    {
     "name": "stdout",
     "output_type": "stream",
     "text": [
      "Sreypov's book\n"
     ]
    }
   ],
   "source": [
    "print(\"Sreypov's book\")"
   ]
  },
  {
   "cell_type": "code",
   "execution_count": 967,
   "metadata": {},
   "outputs": [
    {
     "name": "stdout",
     "output_type": "stream",
     "text": [
      "Sreypov \"book\" \n"
     ]
    }
   ],
   "source": [
    "print('Sreypov \"book\" ')"
   ]
  },
  {
   "cell_type": "code",
   "execution_count": 968,
   "metadata": {},
   "outputs": [
    {
     "name": "stdout",
     "output_type": "stream",
     "text": [
      "SreypovSreypovSreypovSreypovSreypov\n"
     ]
    }
   ],
   "source": [
    "print(5 * 'Sreypov')"
   ]
  },
  {
   "cell_type": "code",
   "execution_count": 969,
   "metadata": {},
   "outputs": [
    {
     "data": {
      "text/plain": [
       "'SreypovSreypovSreypovSreypovSreypov'"
      ]
     },
     "execution_count": 969,
     "metadata": {},
     "output_type": "execute_result"
    }
   ],
   "source": [
    "5 * 'Sreypov'"
   ]
  },
  {
   "cell_type": "code",
   "execution_count": 970,
   "metadata": {},
   "outputs": [
    {
     "name": "stdout",
     "output_type": "stream",
     "text": [
      "c:\\docs\\sreypov\n"
     ]
    }
   ],
   "source": [
    "print('c:\\docs\\sreypov')"
   ]
  },
  {
   "cell_type": "code",
   "execution_count": 971,
   "metadata": {},
   "outputs": [],
   "source": [
    "#Variables in Python "
   ]
  },
  {
   "cell_type": "code",
   "execution_count": 972,
   "metadata": {},
   "outputs": [
    {
     "data": {
      "text/plain": [
       "5"
      ]
     },
     "execution_count": 972,
     "metadata": {},
     "output_type": "execute_result"
    }
   ],
   "source": [
    "x = 2\n",
    "x + 3"
   ]
  },
  {
   "cell_type": "code",
   "execution_count": 973,
   "metadata": {},
   "outputs": [
    {
     "data": {
      "text/plain": [
       "7"
      ]
     },
     "execution_count": 973,
     "metadata": {},
     "output_type": "execute_result"
    }
   ],
   "source": [
    "y = 5\n",
    "x + y"
   ]
  },
  {
   "cell_type": "code",
   "execution_count": 974,
   "metadata": {},
   "outputs": [
    {
     "data": {
      "text/plain": [
       "2"
      ]
     },
     "execution_count": 974,
     "metadata": {},
     "output_type": "execute_result"
    }
   ],
   "source": [
    "x"
   ]
  },
  {
   "cell_type": "code",
   "execution_count": 975,
   "metadata": {},
   "outputs": [
    {
     "data": {
      "text/plain": [
       "12"
      ]
     },
     "execution_count": 975,
     "metadata": {},
     "output_type": "execute_result"
    }
   ],
   "source": [
    "_  + 10"
   ]
  },
  {
   "cell_type": "code",
   "execution_count": 976,
   "metadata": {},
   "outputs": [
    {
     "data": {
      "text/plain": [
       "5"
      ]
     },
     "execution_count": 976,
     "metadata": {},
     "output_type": "execute_result"
    }
   ],
   "source": [
    "y"
   ]
  },
  {
   "cell_type": "code",
   "execution_count": 977,
   "metadata": {},
   "outputs": [
    {
     "data": {
      "text/plain": [
       "15"
      ]
     },
     "execution_count": 977,
     "metadata": {},
     "output_type": "execute_result"
    }
   ],
   "source": [
    "_ + 10"
   ]
  },
  {
   "cell_type": "code",
   "execution_count": 978,
   "metadata": {},
   "outputs": [
    {
     "data": {
      "text/plain": [
       "'Sreypov'"
      ]
     },
     "execution_count": 978,
     "metadata": {},
     "output_type": "execute_result"
    }
   ],
   "source": [
    "name = 'Sreypov'\n",
    "name"
   ]
  },
  {
   "cell_type": "code",
   "execution_count": 979,
   "metadata": {},
   "outputs": [
    {
     "data": {
      "text/plain": [
       "'Sreypov VAN'"
      ]
     },
     "execution_count": 979,
     "metadata": {},
     "output_type": "execute_result"
    }
   ],
   "source": [
    "name + ' VAN'"
   ]
  },
  {
   "cell_type": "code",
   "execution_count": 980,
   "metadata": {},
   "outputs": [
    {
     "data": {
      "text/plain": [
       "'Y'"
      ]
     },
     "execution_count": 980,
     "metadata": {},
     "output_type": "execute_result"
    }
   ],
   "source": [
    "name = \"YouTube\"\n",
    "name[0]\n"
   ]
  },
  {
   "cell_type": "code",
   "execution_count": 981,
   "metadata": {},
   "outputs": [
    {
     "data": {
      "text/plain": [
       "'e'"
      ]
     },
     "execution_count": 981,
     "metadata": {},
     "output_type": "execute_result"
    }
   ],
   "source": [
    "name[-1]"
   ]
  },
  {
   "cell_type": "code",
   "execution_count": 875,
   "metadata": {},
   "outputs": [
    {
     "data": {
      "text/plain": [
       "'ouT'"
      ]
     },
     "execution_count": 875,
     "metadata": {},
     "output_type": "execute_result"
    }
   ],
   "source": [
    "name[1:4]\n"
   ]
  },
  {
   "cell_type": "code",
   "execution_count": 876,
   "metadata": {},
   "outputs": [
    {
     "data": {
      "text/plain": [
       "'Go ouT'"
      ]
     },
     "execution_count": 876,
     "metadata": {},
     "output_type": "execute_result"
    }
   ],
   "source": [
    "a = 'Go '\n",
    "a + name[1:4]"
   ]
  },
  {
   "cell_type": "code",
   "execution_count": 877,
   "metadata": {},
   "outputs": [],
   "source": [
    "#5_List in Python (here we can group int and string together)"
   ]
  },
  {
   "cell_type": "code",
   "execution_count": 7,
   "metadata": {},
   "outputs": [
    {
     "data": {
      "text/plain": [
       "[12, 15, 23, 30, 4]"
      ]
     },
     "execution_count": 7,
     "metadata": {},
     "output_type": "execute_result"
    }
   ],
   "source": [
    "date = [12, 15,23, 30, 4]\n",
    "date"
   ]
  },
  {
   "cell_type": "code",
   "execution_count": 8,
   "metadata": {},
   "outputs": [
    {
     "data": {
      "text/plain": [
       "30"
      ]
     },
     "execution_count": 8,
     "metadata": {},
     "output_type": "execute_result"
    }
   ],
   "source": [
    "date[3]"
   ]
  },
  {
   "cell_type": "code",
   "execution_count": 9,
   "metadata": {},
   "outputs": [
    {
     "data": {
      "text/plain": [
       "[23, 30, 4]"
      ]
     },
     "execution_count": 9,
     "metadata": {},
     "output_type": "execute_result"
    }
   ],
   "source": [
    "date[2:]"
   ]
  },
  {
   "cell_type": "code",
   "execution_count": null,
   "metadata": {},
   "outputs": [],
   "source": []
  },
  {
   "cell_type": "code",
   "execution_count": 10,
   "metadata": {},
   "outputs": [
    {
     "data": {
      "text/plain": [
       "['Sreypov', 'Sokea', 'Lina']"
      ]
     },
     "execution_count": 10,
     "metadata": {},
     "output_type": "execute_result"
    }
   ],
   "source": [
    "name = [\"Sreypov\", \"Sokea\", 'Lina']\n",
    "name"
   ]
  },
  {
   "cell_type": "code",
   "execution_count": 11,
   "metadata": {},
   "outputs": [
    {
     "data": {
      "text/plain": [
       "[[12, 15, 23, 30, 4], ['Sreypov', 'Sokea', 'Lina']]"
      ]
     },
     "execution_count": 11,
     "metadata": {},
     "output_type": "execute_result"
    }
   ],
   "source": [
    "Combine = [date, name]\n",
    "Combine"
   ]
  },
  {
   "cell_type": "code",
   "execution_count": 12,
   "metadata": {},
   "outputs": [
    {
     "data": {
      "text/plain": [
       "[5.5, 'Sreypov', 20]"
      ]
     },
     "execution_count": 12,
     "metadata": {},
     "output_type": "execute_result"
    }
   ],
   "source": [
    "value = [5.5, 'Sreypov', 20]\n",
    "value"
   ]
  },
  {
   "cell_type": "code",
   "execution_count": 13,
   "metadata": {},
   "outputs": [
    {
     "data": {
      "text/plain": [
       "[12, 15, 23, 30, 4, 17]"
      ]
     },
     "execution_count": 13,
     "metadata": {},
     "output_type": "execute_result"
    }
   ],
   "source": [
    "date.append(17)\n",
    "date"
   ]
  },
  {
   "cell_type": "code",
   "execution_count": 14,
   "metadata": {},
   "outputs": [
    {
     "data": {
      "text/plain": [
       "[12, 15, 28, 23, 30, 4, 17]"
      ]
     },
     "execution_count": 14,
     "metadata": {},
     "output_type": "execute_result"
    }
   ],
   "source": [
    "date.insert(2, 28)\n",
    "date"
   ]
  },
  {
   "cell_type": "code",
   "execution_count": 15,
   "metadata": {},
   "outputs": [
    {
     "data": {
      "text/plain": [
       "[12, 15, 23, 30, 4, 17]"
      ]
     },
     "execution_count": 15,
     "metadata": {},
     "output_type": "execute_result"
    }
   ],
   "source": [
    "date.remove(28)\n",
    "date"
   ]
  },
  {
   "cell_type": "code",
   "execution_count": 16,
   "metadata": {},
   "outputs": [
    {
     "data": {
      "text/plain": [
       "17"
      ]
     },
     "execution_count": 16,
     "metadata": {},
     "output_type": "execute_result"
    }
   ],
   "source": [
    "date.pop(5)\n",
    "#in list we thinking about index number"
   ]
  },
  {
   "cell_type": "code",
   "execution_count": 888,
   "metadata": {},
   "outputs": [
    {
     "data": {
      "text/plain": [
       "[12, 15, 23, 30, 4]"
      ]
     },
     "execution_count": 888,
     "metadata": {},
     "output_type": "execute_result"
    }
   ],
   "source": [
    "date "
   ]
  },
  {
   "cell_type": "code",
   "execution_count": 889,
   "metadata": {},
   "outputs": [
    {
     "data": {
      "text/plain": [
       "[12, 15, 23, 30, 4, 1]"
      ]
     },
     "execution_count": 889,
     "metadata": {},
     "output_type": "execute_result"
    }
   ],
   "source": [
    "date.extend([1])\n",
    "date"
   ]
  },
  {
   "cell_type": "code",
   "execution_count": 890,
   "metadata": {},
   "outputs": [
    {
     "data": {
      "text/plain": [
       "1"
      ]
     },
     "execution_count": 890,
     "metadata": {},
     "output_type": "execute_result"
    }
   ],
   "source": [
    "min(date)"
   ]
  },
  {
   "cell_type": "code",
   "execution_count": 891,
   "metadata": {},
   "outputs": [
    {
     "data": {
      "text/plain": [
       "30"
      ]
     },
     "execution_count": 891,
     "metadata": {},
     "output_type": "execute_result"
    }
   ],
   "source": [
    "max(date)"
   ]
  },
  {
   "cell_type": "code",
   "execution_count": 892,
   "metadata": {},
   "outputs": [
    {
     "data": {
      "text/plain": [
       "85"
      ]
     },
     "execution_count": 892,
     "metadata": {},
     "output_type": "execute_result"
    }
   ],
   "source": [
    "sum(date)"
   ]
  },
  {
   "cell_type": "code",
   "execution_count": 893,
   "metadata": {},
   "outputs": [
    {
     "data": {
      "text/plain": [
       "[1, 4, 12, 15, 23, 30]"
      ]
     },
     "execution_count": 893,
     "metadata": {},
     "output_type": "execute_result"
    }
   ],
   "source": [
    "date.sort()\n",
    "date"
   ]
  },
  {
   "cell_type": "code",
   "execution_count": null,
   "metadata": {},
   "outputs": [],
   "source": []
  },
  {
   "cell_type": "code",
   "execution_count": 894,
   "metadata": {},
   "outputs": [],
   "source": [
    "#6_Tuple & Set in Python "
   ]
  },
  {
   "cell_type": "code",
   "execution_count": 17,
   "metadata": {},
   "outputs": [
    {
     "data": {
      "text/plain": [
       "(21, 36, 14, 25)"
      ]
     },
     "execution_count": 17,
     "metadata": {},
     "output_type": "execute_result"
    }
   ],
   "source": [
    "tup = (21, 36, 14, 25)\n",
    "tup"
   ]
  },
  {
   "cell_type": "code",
   "execution_count": 18,
   "metadata": {},
   "outputs": [
    {
     "data": {
      "text/plain": [
       "14"
      ]
     },
     "execution_count": 18,
     "metadata": {},
     "output_type": "execute_result"
    }
   ],
   "source": [
    "tup[2]"
   ]
  },
  {
   "cell_type": "code",
   "execution_count": 19,
   "metadata": {},
   "outputs": [],
   "source": [
    "#we cannot change the value of it. If there is a requirement_that want to set of a value and don't want to change it, so u have to go for a Tuple. "
   ]
  },
  {
   "cell_type": "code",
   "execution_count": 20,
   "metadata": {},
   "outputs": [
    {
     "data": {
      "text/plain": [
       "{12, 14, 24, 25, 26}"
      ]
     },
     "execution_count": 20,
     "metadata": {},
     "output_type": "execute_result"
    }
   ],
   "source": [
    "set = {24, 25, 26, 12, 14}\n",
    "set"
   ]
  },
  {
   "cell_type": "code",
   "execution_count": 899,
   "metadata": {},
   "outputs": [
    {
     "name": "stdout",
     "output_type": "stream",
     "text": [
      "(1, 2, 3, 2)\n",
      "{1, 2, 3}\n"
     ]
    }
   ],
   "source": [
    "# Tuple\n",
    "my_tuple = (1, 2, 3, 2)\n",
    "print(my_tuple)  # Outputs: (1, 2, 3, 2)\n",
    "\n",
    "# Set\n",
    "my_set = {1, 2, 3, 2}\n",
    "print(my_set)    # Outputs: {1, 2, 3} (Note: Duplicate 2 is removed)\n"
   ]
  },
  {
   "cell_type": "code",
   "execution_count": null,
   "metadata": {},
   "outputs": [],
   "source": []
  },
  {
   "cell_type": "code",
   "execution_count": 900,
   "metadata": {},
   "outputs": [],
   "source": [
    "##9_More on Variables in Python"
   ]
  },
  {
   "cell_type": "code",
   "execution_count": 901,
   "metadata": {},
   "outputs": [
    {
     "data": {
      "text/plain": [
       "2190366501296"
      ]
     },
     "execution_count": 901,
     "metadata": {},
     "output_type": "execute_result"
    }
   ],
   "source": [
    "num = 5 \n",
    "id(num)"
   ]
  },
  {
   "cell_type": "code",
   "execution_count": 902,
   "metadata": {},
   "outputs": [
    {
     "data": {
      "text/plain": [
       "2188437721264"
      ]
     },
     "execution_count": 902,
     "metadata": {},
     "output_type": "execute_result"
    }
   ],
   "source": [
    "num = \"Sreypov\"\n",
    "id(num)"
   ]
  },
  {
   "cell_type": "code",
   "execution_count": 903,
   "metadata": {},
   "outputs": [
    {
     "data": {
      "text/plain": [
       "10"
      ]
     },
     "execution_count": 903,
     "metadata": {},
     "output_type": "execute_result"
    }
   ],
   "source": [
    "a = 10\n",
    "b = a\n",
    "b"
   ]
  },
  {
   "cell_type": "code",
   "execution_count": 904,
   "metadata": {},
   "outputs": [
    {
     "data": {
      "text/plain": [
       "2190366501456"
      ]
     },
     "execution_count": 904,
     "metadata": {},
     "output_type": "execute_result"
    }
   ],
   "source": [
    "id(a)"
   ]
  },
  {
   "cell_type": "code",
   "execution_count": 905,
   "metadata": {},
   "outputs": [
    {
     "data": {
      "text/plain": [
       "2190366501456"
      ]
     },
     "execution_count": 905,
     "metadata": {},
     "output_type": "execute_result"
    }
   ],
   "source": [
    "id(b)"
   ]
  },
  {
   "cell_type": "code",
   "execution_count": 906,
   "metadata": {},
   "outputs": [
    {
     "data": {
      "text/plain": [
       "2190366501456"
      ]
     },
     "execution_count": 906,
     "metadata": {},
     "output_type": "execute_result"
    }
   ],
   "source": [
    "id(10)"
   ]
  },
  {
   "cell_type": "code",
   "execution_count": 907,
   "metadata": {},
   "outputs": [
    {
     "data": {
      "text/plain": [
       "2190366501456"
      ]
     },
     "execution_count": 907,
     "metadata": {},
     "output_type": "execute_result"
    }
   ],
   "source": [
    "c = 10\n",
    "id(c)"
   ]
  },
  {
   "cell_type": "code",
   "execution_count": 908,
   "metadata": {},
   "outputs": [
    {
     "data": {
      "text/plain": [
       "2190366501392"
      ]
     },
     "execution_count": 908,
     "metadata": {},
     "output_type": "execute_result"
    }
   ],
   "source": [
    "a = 8 \n",
    "id(a)"
   ]
  },
  {
   "cell_type": "code",
   "execution_count": 909,
   "metadata": {},
   "outputs": [
    {
     "data": {
      "text/plain": [
       "2190366501392"
      ]
     },
     "execution_count": 909,
     "metadata": {},
     "output_type": "execute_result"
    }
   ],
   "source": [
    "c = a\n",
    "id(c)"
   ]
  },
  {
   "cell_type": "code",
   "execution_count": null,
   "metadata": {},
   "outputs": [],
   "source": []
  },
  {
   "cell_type": "code",
   "execution_count": 910,
   "metadata": {},
   "outputs": [],
   "source": [
    "##10_Data types"
   ]
  },
  {
   "cell_type": "code",
   "execution_count": 911,
   "metadata": {},
   "outputs": [
    {
     "data": {
      "text/plain": [
       "3.14"
      ]
     },
     "execution_count": 911,
     "metadata": {},
     "output_type": "execute_result"
    }
   ],
   "source": [
    "pi = 3.14\n",
    "pi"
   ]
  },
  {
   "cell_type": "code",
   "execution_count": 912,
   "metadata": {},
   "outputs": [
    {
     "data": {
      "text/plain": [
       "float"
      ]
     },
     "execution_count": 912,
     "metadata": {},
     "output_type": "execute_result"
    }
   ],
   "source": [
    "type(pi)"
   ]
  },
  {
   "cell_type": "code",
   "execution_count": 913,
   "metadata": {},
   "outputs": [
    {
     "data": {
      "text/plain": [
       "int"
      ]
     },
     "execution_count": 913,
     "metadata": {},
     "output_type": "execute_result"
    }
   ],
   "source": [
    "num = 7\n",
    "type(num)"
   ]
  },
  {
   "cell_type": "code",
   "execution_count": 914,
   "metadata": {},
   "outputs": [
    {
     "data": {
      "text/plain": [
       "complex"
      ]
     },
     "execution_count": 914,
     "metadata": {},
     "output_type": "execute_result"
    }
   ],
   "source": [
    "num = 6+9j\n",
    "type(num)"
   ]
  },
  {
   "cell_type": "code",
   "execution_count": 915,
   "metadata": {},
   "outputs": [
    {
     "data": {
      "text/plain": [
       "int"
      ]
     },
     "execution_count": 915,
     "metadata": {},
     "output_type": "execute_result"
    }
   ],
   "source": [
    "a = 3.6\n",
    "b = int(a)\n",
    "type(b)"
   ]
  },
  {
   "cell_type": "code",
   "execution_count": 916,
   "metadata": {},
   "outputs": [
    {
     "data": {
      "text/plain": [
       "3"
      ]
     },
     "execution_count": 916,
     "metadata": {},
     "output_type": "execute_result"
    }
   ],
   "source": [
    "b"
   ]
  },
  {
   "cell_type": "code",
   "execution_count": 917,
   "metadata": {},
   "outputs": [
    {
     "data": {
      "text/plain": [
       "3.0"
      ]
     },
     "execution_count": 917,
     "metadata": {},
     "output_type": "execute_result"
    }
   ],
   "source": [
    "c = float(b)\n",
    "c"
   ]
  },
  {
   "cell_type": "code",
   "execution_count": 918,
   "metadata": {},
   "outputs": [
    {
     "data": {
      "text/plain": [
       "float"
      ]
     },
     "execution_count": 918,
     "metadata": {},
     "output_type": "execute_result"
    }
   ],
   "source": [
    "type(c)"
   ]
  },
  {
   "cell_type": "code",
   "execution_count": 919,
   "metadata": {},
   "outputs": [
    {
     "data": {
      "text/plain": [
       "(3+6j)"
      ]
     },
     "execution_count": 919,
     "metadata": {},
     "output_type": "execute_result"
    }
   ],
   "source": [
    "k = 6 \n",
    "e = complex(b, k)\n",
    "e"
   ]
  },
  {
   "cell_type": "code",
   "execution_count": 920,
   "metadata": {},
   "outputs": [
    {
     "data": {
      "text/plain": [
       "True"
      ]
     },
     "execution_count": 920,
     "metadata": {},
     "output_type": "execute_result"
    }
   ],
   "source": [
    "c<k"
   ]
  },
  {
   "cell_type": "code",
   "execution_count": 921,
   "metadata": {},
   "outputs": [
    {
     "data": {
      "text/plain": [
       "False"
      ]
     },
     "execution_count": 921,
     "metadata": {},
     "output_type": "execute_result"
    }
   ],
   "source": [
    "c>k"
   ]
  },
  {
   "cell_type": "code",
   "execution_count": 922,
   "metadata": {},
   "outputs": [
    {
     "data": {
      "text/plain": [
       "True"
      ]
     },
     "execution_count": 922,
     "metadata": {},
     "output_type": "execute_result"
    }
   ],
   "source": [
    "AB = c<k\n",
    "AB"
   ]
  },
  {
   "cell_type": "code",
   "execution_count": 923,
   "metadata": {},
   "outputs": [
    {
     "data": {
      "text/plain": [
       "bool"
      ]
     },
     "execution_count": 923,
     "metadata": {},
     "output_type": "execute_result"
    }
   ],
   "source": [
    "type(AB)"
   ]
  },
  {
   "cell_type": "code",
   "execution_count": 924,
   "metadata": {},
   "outputs": [
    {
     "data": {
      "text/plain": [
       "1"
      ]
     },
     "execution_count": 924,
     "metadata": {},
     "output_type": "execute_result"
    }
   ],
   "source": [
    "int(True)"
   ]
  },
  {
   "cell_type": "code",
   "execution_count": 925,
   "metadata": {},
   "outputs": [
    {
     "data": {
      "text/plain": [
       "0"
      ]
     },
     "execution_count": 925,
     "metadata": {},
     "output_type": "execute_result"
    }
   ],
   "source": [
    "int(False)"
   ]
  },
  {
   "cell_type": "code",
   "execution_count": 926,
   "metadata": {},
   "outputs": [
    {
     "data": {
      "text/plain": [
       "list"
      ]
     },
     "execution_count": 926,
     "metadata": {},
     "output_type": "execute_result"
    }
   ],
   "source": [
    "lst =  [25, 36, 45, 12]\n",
    "type(lst)"
   ]
  },
  {
   "cell_type": "code",
   "execution_count": 927,
   "metadata": {},
   "outputs": [
    {
     "data": {
      "text/plain": [
       "{12, 15, 25, 36, 45}"
      ]
     },
     "execution_count": 927,
     "metadata": {},
     "output_type": "execute_result"
    }
   ],
   "source": [
    "s = {25, 36, 45, 15, 12, 25}\n",
    "s "
   ]
  },
  {
   "cell_type": "code",
   "execution_count": 928,
   "metadata": {},
   "outputs": [
    {
     "data": {
      "text/plain": [
       "set"
      ]
     },
     "execution_count": 928,
     "metadata": {},
     "output_type": "execute_result"
    }
   ],
   "source": [
    "type(s)"
   ]
  },
  {
   "cell_type": "code",
   "execution_count": 929,
   "metadata": {},
   "outputs": [
    {
     "data": {
      "text/plain": [
       "tuple"
      ]
     },
     "execution_count": 929,
     "metadata": {},
     "output_type": "execute_result"
    }
   ],
   "source": [
    "t = (25, 36, 4, 57, 12)\n",
    "type(t)"
   ]
  },
  {
   "cell_type": "code",
   "execution_count": 930,
   "metadata": {},
   "outputs": [
    {
     "data": {
      "text/plain": [
       "str"
      ]
     },
     "execution_count": 930,
     "metadata": {},
     "output_type": "execute_result"
    }
   ],
   "source": [
    "str = \"Sreypov\"\n",
    "type(str)"
   ]
  },
  {
   "cell_type": "code",
   "execution_count": 931,
   "metadata": {},
   "outputs": [
    {
     "data": {
      "text/plain": [
       "range(0, 10)"
      ]
     },
     "execution_count": 931,
     "metadata": {},
     "output_type": "execute_result"
    }
   ],
   "source": [
    "range(10)\n",
    "\n"
   ]
  },
  {
   "cell_type": "code",
   "execution_count": 932,
   "metadata": {},
   "outputs": [
    {
     "data": {
      "text/plain": [
       "[0, 1, 2, 3, 4, 5, 6, 7, 8, 9]"
      ]
     },
     "execution_count": 932,
     "metadata": {},
     "output_type": "execute_result"
    }
   ],
   "source": [
    "list(range(10))"
   ]
  },
  {
   "cell_type": "code",
   "execution_count": 933,
   "metadata": {},
   "outputs": [],
   "source": [
    "#a range with different iteration "
   ]
  },
  {
   "cell_type": "code",
   "execution_count": 934,
   "metadata": {},
   "outputs": [
    {
     "data": {
      "text/plain": [
       "[2, 4, 6, 8]"
      ]
     },
     "execution_count": 934,
     "metadata": {},
     "output_type": "execute_result"
    }
   ],
   "source": [
    "list(range(2, 10, 2))"
   ]
  },
  {
   "cell_type": "code",
   "execution_count": 935,
   "metadata": {},
   "outputs": [
    {
     "data": {
      "text/plain": [
       "[3, 7]"
      ]
     },
     "execution_count": 935,
     "metadata": {},
     "output_type": "execute_result"
    }
   ],
   "source": [
    "list(range(3, 10, 4))"
   ]
  },
  {
   "cell_type": "code",
   "execution_count": 936,
   "metadata": {},
   "outputs": [
    {
     "data": {
      "text/plain": [
       "range"
      ]
     },
     "execution_count": 936,
     "metadata": {},
     "output_type": "execute_result"
    }
   ],
   "source": [
    "type(range(10))"
   ]
  },
  {
   "cell_type": "code",
   "execution_count": 937,
   "metadata": {},
   "outputs": [],
   "source": [
    "#Dictionary or mapping "
   ]
  },
  {
   "cell_type": "code",
   "execution_count": 938,
   "metadata": {},
   "outputs": [
    {
     "data": {
      "text/plain": [
       "{'Sreypov': 'iPhone', 'Sokea': 'Samsung, iPhone', 'Linda': 'Mac'}"
      ]
     },
     "execution_count": 938,
     "metadata": {},
     "output_type": "execute_result"
    }
   ],
   "source": [
    "Dict = {\"Sreypov\":\"iPhone\",\"Sokea\":\"Samsung, iPhone\", \"Linda\":\"Mac\"}\n",
    "Dict\n",
    "# the out put below are called keys"
   ]
  },
  {
   "cell_type": "code",
   "execution_count": 939,
   "metadata": {},
   "outputs": [
    {
     "data": {
      "text/plain": [
       "dict_keys(['Sreypov', 'Sokea', 'Linda'])"
      ]
     },
     "execution_count": 939,
     "metadata": {},
     "output_type": "execute_result"
    }
   ],
   "source": [
    "Dict.keys()"
   ]
  },
  {
   "cell_type": "code",
   "execution_count": 940,
   "metadata": {},
   "outputs": [
    {
     "data": {
      "text/plain": [
       "dict_values(['iPhone', 'Samsung, iPhone', 'Mac'])"
      ]
     },
     "execution_count": 940,
     "metadata": {},
     "output_type": "execute_result"
    }
   ],
   "source": [
    "Dict.values()\n",
    "\n",
    "# the out put below are called value "
   ]
  },
  {
   "cell_type": "code",
   "execution_count": 941,
   "metadata": {},
   "outputs": [
    {
     "data": {
      "text/plain": [
       "'Samsung, iPhone'"
      ]
     },
     "execution_count": 941,
     "metadata": {},
     "output_type": "execute_result"
    }
   ],
   "source": [
    "Dict[\"Sokea\"]\n",
    "\n",
    "#how we get particular value "
   ]
  },
  {
   "cell_type": "code",
   "execution_count": 942,
   "metadata": {},
   "outputs": [
    {
     "data": {
      "text/plain": [
       "'Mac'"
      ]
     },
     "execution_count": 942,
     "metadata": {},
     "output_type": "execute_result"
    }
   ],
   "source": [
    "Dict.get(\"Linda\")"
   ]
  },
  {
   "cell_type": "code",
   "execution_count": null,
   "metadata": {},
   "outputs": [],
   "source": []
  },
  {
   "cell_type": "code",
   "execution_count": 943,
   "metadata": {},
   "outputs": [],
   "source": [
    "#11_ Opertors in Python\n",
    "    "
   ]
  },
  {
   "cell_type": "code",
   "execution_count": 13,
   "metadata": {},
   "outputs": [
    {
     "data": {
      "text/plain": [
       "5"
      ]
     },
     "execution_count": 13,
     "metadata": {},
     "output_type": "execute_result"
    }
   ],
   "source": [
    "#Arithmetic operator \n",
    "x = 2\n",
    "y = 3\n",
    "x + y\n"
   ]
  },
  {
   "cell_type": "code",
   "execution_count": 3,
   "metadata": {},
   "outputs": [
    {
     "data": {
      "text/plain": [
       "4"
      ]
     },
     "execution_count": 3,
     "metadata": {},
     "output_type": "execute_result"
    }
   ],
   "source": [
    "x = x + 2 \n",
    "x"
   ]
  },
  {
   "cell_type": "code",
   "execution_count": 4,
   "metadata": {},
   "outputs": [
    {
     "data": {
      "text/plain": [
       "6"
      ]
     },
     "execution_count": 4,
     "metadata": {},
     "output_type": "execute_result"
    }
   ],
   "source": [
    "x += 2\n",
    "x\n",
    "#insteat of x = x + 2"
   ]
  },
  {
   "cell_type": "code",
   "execution_count": 5,
   "metadata": {},
   "outputs": [
    {
     "data": {
      "text/plain": [
       "18"
      ]
     },
     "execution_count": 5,
     "metadata": {},
     "output_type": "execute_result"
    }
   ],
   "source": [
    "x *= 3\n",
    "x"
   ]
  },
  {
   "cell_type": "code",
   "execution_count": 22,
   "metadata": {},
   "outputs": [],
   "source": [
    "#Unary Operator"
   ]
  },
  {
   "cell_type": "code",
   "execution_count": 26,
   "metadata": {},
   "outputs": [
    {
     "data": {
      "text/plain": [
       "3"
      ]
     },
     "execution_count": 26,
     "metadata": {},
     "output_type": "execute_result"
    }
   ],
   "source": [
    "a,b,c = 3, 4, 5\n",
    "a"
   ]
  },
  {
   "cell_type": "code",
   "execution_count": 27,
   "metadata": {},
   "outputs": [
    {
     "data": {
      "text/plain": [
       "4"
      ]
     },
     "execution_count": 27,
     "metadata": {},
     "output_type": "execute_result"
    }
   ],
   "source": [
    "b"
   ]
  },
  {
   "cell_type": "code",
   "execution_count": 28,
   "metadata": {},
   "outputs": [
    {
     "data": {
      "text/plain": [
       "7"
      ]
     },
     "execution_count": 28,
     "metadata": {},
     "output_type": "execute_result"
    }
   ],
   "source": [
    "n = 7\n",
    "n"
   ]
  },
  {
   "cell_type": "code",
   "execution_count": 29,
   "metadata": {},
   "outputs": [
    {
     "data": {
      "text/plain": [
       "-7"
      ]
     },
     "execution_count": 29,
     "metadata": {},
     "output_type": "execute_result"
    }
   ],
   "source": [
    "-n"
   ]
  },
  {
   "cell_type": "code",
   "execution_count": 30,
   "metadata": {},
   "outputs": [],
   "source": [
    "    #Relational operator"
   ]
  },
  {
   "cell_type": "code",
   "execution_count": 31,
   "metadata": {},
   "outputs": [
    {
     "data": {
      "text/plain": [
       "True"
      ]
     },
     "execution_count": 31,
     "metadata": {},
     "output_type": "execute_result"
    }
   ],
   "source": [
    "a < b"
   ]
  },
  {
   "cell_type": "code",
   "execution_count": 32,
   "metadata": {},
   "outputs": [
    {
     "data": {
      "text/plain": [
       "False"
      ]
     },
     "execution_count": 32,
     "metadata": {},
     "output_type": "execute_result"
    }
   ],
   "source": [
    "a > b"
   ]
  },
  {
   "cell_type": "code",
   "execution_count": 33,
   "metadata": {},
   "outputs": [
    {
     "data": {
      "text/plain": [
       "False"
      ]
     },
     "execution_count": 33,
     "metadata": {},
     "output_type": "execute_result"
    }
   ],
   "source": [
    "a == b"
   ]
  },
  {
   "cell_type": "code",
   "execution_count": 34,
   "metadata": {},
   "outputs": [
    {
     "data": {
      "text/plain": [
       "True"
      ]
     },
     "execution_count": 34,
     "metadata": {},
     "output_type": "execute_result"
    }
   ],
   "source": [
    "a = 4 \n",
    "a==b"
   ]
  },
  {
   "cell_type": "code",
   "execution_count": 35,
   "metadata": {},
   "outputs": [
    {
     "data": {
      "text/plain": [
       "False"
      ]
     },
     "execution_count": 35,
     "metadata": {},
     "output_type": "execute_result"
    }
   ],
   "source": [
    "a>=c"
   ]
  },
  {
   "cell_type": "code",
   "execution_count": 36,
   "metadata": {},
   "outputs": [
    {
     "data": {
      "text/plain": [
       "True"
      ]
     },
     "execution_count": 36,
     "metadata": {},
     "output_type": "execute_result"
    }
   ],
   "source": [
    "#how to say not equal to (!=)\n",
    "a != c"
   ]
  },
  {
   "cell_type": "code",
   "execution_count": 37,
   "metadata": {},
   "outputs": [
    {
     "data": {
      "text/plain": [
       "True"
      ]
     },
     "execution_count": 37,
     "metadata": {},
     "output_type": "execute_result"
    }
   ],
   "source": [
    "#logical operator \n",
    "\n",
    "a = 6\n",
    "b = 8\n",
    "a > 4 and b < 9"
   ]
  },
  {
   "cell_type": "code",
   "execution_count": 27,
   "metadata": {},
   "outputs": [
    {
     "data": {
      "text/plain": [
       "False"
      ]
     },
     "execution_count": 27,
     "metadata": {},
     "output_type": "execute_result"
    }
   ],
   "source": [
    "a < 8 and b < 2"
   ]
  },
  {
   "cell_type": "code",
   "execution_count": 28,
   "metadata": {},
   "outputs": [
    {
     "data": {
      "text/plain": [
       "True"
      ]
     },
     "execution_count": 28,
     "metadata": {},
     "output_type": "execute_result"
    }
   ],
   "source": [
    "a < 8 or b < 2"
   ]
  },
  {
   "cell_type": "code",
   "execution_count": 2,
   "metadata": {},
   "outputs": [
    {
     "data": {
      "text/plain": [
       "True"
      ]
     },
     "execution_count": 2,
     "metadata": {},
     "output_type": "execute_result"
    }
   ],
   "source": [
    "x = True\n",
    "x"
   ]
  },
  {
   "cell_type": "code",
   "execution_count": 3,
   "metadata": {},
   "outputs": [
    {
     "data": {
      "text/plain": [
       "False"
      ]
     },
     "execution_count": 3,
     "metadata": {},
     "output_type": "execute_result"
    }
   ],
   "source": [
    "not x "
   ]
  },
  {
   "cell_type": "code",
   "execution_count": null,
   "metadata": {},
   "outputs": [],
   "source": [
    "#12_Number system conversion in Python "
   ]
  },
  {
   "cell_type": "code",
   "execution_count": 1,
   "metadata": {},
   "outputs": [],
   "source": [
    "#to convert from Decimal system to Binary system, using bin\n",
    "#the out put 0b, b representing binary format "
   ]
  },
  {
   "cell_type": "code",
   "execution_count": 1,
   "metadata": {},
   "outputs": [
    {
     "data": {
      "text/plain": [
       "'0b101'"
      ]
     },
     "execution_count": 1,
     "metadata": {},
     "output_type": "execute_result"
    }
   ],
   "source": [
    "bin(5)"
   ]
  },
  {
   "cell_type": "code",
   "execution_count": 3,
   "metadata": {},
   "outputs": [
    {
     "data": {
      "text/plain": [
       "5"
      ]
     },
     "execution_count": 3,
     "metadata": {},
     "output_type": "execute_result"
    }
   ],
   "source": [
    "#to convert the Binary to Decimal just using 0b\n",
    "0b0101"
   ]
  },
  {
   "cell_type": "code",
   "execution_count": 4,
   "metadata": {},
   "outputs": [
    {
     "data": {
      "text/plain": [
       "'0o31'"
      ]
     },
     "execution_count": 4,
     "metadata": {},
     "output_type": "execute_result"
    }
   ],
   "source": [
    "#Decimal to Octal formart using oct\n",
    "#the out put 0o, o representing octal \n",
    "oct(25)\n"
   ]
  },
  {
   "cell_type": "code",
   "execution_count": 5,
   "metadata": {},
   "outputs": [
    {
     "data": {
      "text/plain": [
       "'0x19'"
      ]
     },
     "execution_count": 5,
     "metadata": {},
     "output_type": "execute_result"
    }
   ],
   "source": [
    "#Decimal to HexaDecimal by using hex\n",
    "#the out put 0x, x representing HexaDecimal \n",
    "hex(25) "
   ]
  },
  {
   "cell_type": "code",
   "execution_count": null,
   "metadata": {},
   "outputs": [],
   "source": []
  },
  {
   "cell_type": "code",
   "execution_count": null,
   "metadata": {},
   "outputs": [],
   "source": [
    "#13_Swap 2 variables in Python "
   ]
  },
  {
   "cell_type": "code",
   "execution_count": 1,
   "metadata": {},
   "outputs": [
    {
     "name": "stdout",
     "output_type": "stream",
     "text": [
      "6\n",
      "5\n"
     ]
    }
   ],
   "source": [
    "a = 5\n",
    "b = 6 \n",
    "#put a in a temp variable \n",
    "\n",
    "temp = a \n",
    "a = b \n",
    "b = temp\n",
    "print(a)\n",
    "print(b)"
   ]
  },
  {
   "cell_type": "code",
   "execution_count": 3,
   "metadata": {},
   "outputs": [
    {
     "name": "stdout",
     "output_type": "stream",
     "text": [
      "6\n",
      "5\n"
     ]
    }
   ],
   "source": [
    "#try in other way\n",
    "a = 5 \n",
    "b = 6\n",
    "\n",
    "a = a + b #11\n",
    "b = a - b #5\n",
    "a = a - b #6\n",
    "\n",
    "print(a)\n",
    "print(b)"
   ]
  },
  {
   "cell_type": "code",
   "execution_count": 4,
   "metadata": {},
   "outputs": [
    {
     "name": "stdout",
     "output_type": "stream",
     "text": [
      "6\n",
      "5\n"
     ]
    }
   ],
   "source": [
    "#try in other way \n",
    "a = 5 \n",
    "b = 6\n",
    "\n",
    "a = a ^ b\n",
    "b = a ^ b\n",
    "a = a ^ b\n",
    "\n",
    "print(a)\n",
    "print(b)"
   ]
  },
  {
   "cell_type": "code",
   "execution_count": 6,
   "metadata": {},
   "outputs": [
    {
     "name": "stdout",
     "output_type": "stream",
     "text": [
      "6\n",
      "5\n"
     ]
    }
   ],
   "source": [
    "#try in other way \n",
    "a = 5 \n",
    "b = 6\n",
    "\n",
    "a,b = b,a \n",
    "print(a)\n",
    "print(b)"
   ]
  },
  {
   "cell_type": "code",
   "execution_count": null,
   "metadata": {},
   "outputs": [],
   "source": []
  },
  {
   "cell_type": "code",
   "execution_count": null,
   "metadata": {},
   "outputs": [],
   "source": [
    "#15_Python BitWise Operators"
   ]
  },
  {
   "cell_type": "code",
   "execution_count": 1,
   "metadata": {},
   "outputs": [
    {
     "data": {
      "text/plain": [
       "-13"
      ]
     },
     "execution_count": 1,
     "metadata": {},
     "output_type": "execute_result"
    }
   ],
   "source": [
    " #Complement operator or tilde (~) operator\n",
    "~12"
   ]
  },
  {
   "cell_type": "code",
   "execution_count": 3,
   "metadata": {},
   "outputs": [
    {
     "data": {
      "text/plain": [
       "-126"
      ]
     },
     "execution_count": 3,
     "metadata": {},
     "output_type": "execute_result"
    }
   ],
   "source": [
    "~125"
   ]
  },
  {
   "cell_type": "code",
   "execution_count": 4,
   "metadata": {},
   "outputs": [
    {
     "data": {
      "text/plain": [
       "12"
      ]
     },
     "execution_count": 4,
     "metadata": {},
     "output_type": "execute_result"
    }
   ],
   "source": [
    "# And (&)\n",
    "12 & 13  \n",
    "# bin(12) = 00001100 & bin(13) = 00001101"
   ]
  },
  {
   "cell_type": "code",
   "execution_count": 5,
   "metadata": {},
   "outputs": [
    {
     "data": {
      "text/plain": [
       "13"
      ]
     },
     "execution_count": 5,
     "metadata": {},
     "output_type": "execute_result"
    }
   ],
   "source": [
    "#OR (|) operator\n",
    "12|13\n"
   ]
  },
  {
   "cell_type": "code",
   "execution_count": 6,
   "metadata": {},
   "outputs": [
    {
     "data": {
      "text/plain": [
       "1"
      ]
     },
     "execution_count": 6,
     "metadata": {},
     "output_type": "execute_result"
    }
   ],
   "source": [
    "#XOR (^) operator\n",
    "12 ^ 13"
   ]
  },
  {
   "cell_type": "code",
   "execution_count": 11,
   "metadata": {},
   "outputs": [
    {
     "data": {
      "text/plain": [
       "40"
      ]
     },
     "execution_count": 11,
     "metadata": {},
     "output_type": "execute_result"
    }
   ],
   "source": [
    "#Left shift (<<)\n",
    "10 << 2"
   ]
  },
  {
   "cell_type": "code",
   "execution_count": 12,
   "metadata": {},
   "outputs": [
    {
     "data": {
      "text/plain": [
       "2"
      ]
     },
     "execution_count": 12,
     "metadata": {},
     "output_type": "execute_result"
    }
   ],
   "source": [
    "#right shift (>>)  \n",
    "10 >> 2"
   ]
  },
  {
   "cell_type": "code",
   "execution_count": null,
   "metadata": {},
   "outputs": [],
   "source": []
  },
  {
   "cell_type": "code",
   "execution_count": null,
   "metadata": {},
   "outputs": [],
   "source": [
    "#16_Import Math in Python"
   ]
  },
  {
   "cell_type": "code",
   "execution_count": 14,
   "metadata": {},
   "outputs": [],
   "source": [
    " import math"
   ]
  },
  {
   "cell_type": "code",
   "execution_count": 21,
   "metadata": {},
   "outputs": [
    {
     "data": {
      "text/plain": [
       "5.0"
      ]
     },
     "execution_count": 21,
     "metadata": {},
     "output_type": "execute_result"
    }
   ],
   "source": [
    "square_root = math.sqrt(25)  #square root of a number is a value that, when multiplied by itself, gives the original number\n",
    "square_root"
   ]
  },
  {
   "cell_type": "code",
   "execution_count": 25,
   "metadata": {},
   "outputs": [
    {
     "name": "stdout",
     "output_type": "stream",
     "text": [
      "2\n"
     ]
    }
   ],
   "source": [
    "print(math.floor(2.9))"
   ]
  },
  {
   "cell_type": "code",
   "execution_count": 28,
   "metadata": {},
   "outputs": [
    {
     "name": "stdout",
     "output_type": "stream",
     "text": [
      "3\n"
     ]
    }
   ],
   "source": [
    "print(math.ceil(2.2)) \n",
    " #2.2 it will get 2 but when applied ceil(up) it got 3"
   ]
  },
  {
   "cell_type": "code",
   "execution_count": 29,
   "metadata": {},
   "outputs": [
    {
     "data": {
      "text/plain": [
       "9"
      ]
     },
     "execution_count": 29,
     "metadata": {},
     "output_type": "execute_result"
    }
   ],
   "source": [
    "3 ** 2"
   ]
  },
  {
   "cell_type": "code",
   "execution_count": 30,
   "metadata": {},
   "outputs": [
    {
     "name": "stdout",
     "output_type": "stream",
     "text": [
      "9.0\n"
     ]
    }
   ],
   "source": [
    "print(math.pow(3,2))"
   ]
  },
  {
   "cell_type": "code",
   "execution_count": 31,
   "metadata": {},
   "outputs": [
    {
     "name": "stdout",
     "output_type": "stream",
     "text": [
      "3.141592653589793\n"
     ]
    }
   ],
   "source": [
    "print(math.pi)"
   ]
  },
  {
   "cell_type": "code",
   "execution_count": 32,
   "metadata": {},
   "outputs": [
    {
     "data": {
      "text/plain": [
       "3.0"
      ]
     },
     "execution_count": 32,
     "metadata": {},
     "output_type": "execute_result"
    }
   ],
   "source": [
    "import math as m\n",
    "m.sqrt(9)"
   ]
  },
  {
   "cell_type": "code",
   "execution_count": null,
   "metadata": {},
   "outputs": [],
   "source": []
  },
  {
   "cell_type": "code",
   "execution_count": null,
   "metadata": {},
   "outputs": [],
   "source": [
    "#18_User input in Python \n",
    "#how to get the input from a user "
   ]
  },
  {
   "cell_type": "code",
   "execution_count": 4,
   "metadata": {},
   "outputs": [
    {
     "name": "stdout",
     "output_type": "stream",
     "text": [
      "Enter your name:\n",
      "Hello, Sreypov\n"
     ]
    }
   ],
   "source": [
    "print(\"Enter your name:\")\n",
    "x = input()\n",
    "print(\"Hello, \" + x)"
   ]
  },
  {
   "cell_type": "code",
   "execution_count": null,
   "metadata": {},
   "outputs": [],
   "source": [
    "#19_If, Elif, Else Statement in Python \n"
   ]
  },
  {
   "cell_type": "code",
   "execution_count": 7,
   "metadata": {},
   "outputs": [
    {
     "name": "stdout",
     "output_type": "stream",
     "text": [
      "Im right\n"
     ]
    }
   ],
   "source": [
    "if True:\n",
    "    print(\"Im right\")\n",
    "  "
   ]
  },
  {
   "cell_type": "code",
   "execution_count": 13,
   "metadata": {},
   "outputs": [],
   "source": [
    "if False:\n",
    "    print(\"Im right\")\n",
    "    print(\"Bye\")"
   ]
  },
  {
   "cell_type": "code",
   "execution_count": 20,
   "metadata": {},
   "outputs": [
    {
     "name": "stdout",
     "output_type": "stream",
     "text": [
      "Even\n",
      "Not so great\n",
      "Bye\n"
     ]
    }
   ],
   "source": [
    "x = 4 \n",
    "r = x % 2\n",
    "\n",
    "if r==0:\n",
    "     print(\"Even\")\n",
    "     if x>5:\n",
    "         print(\"Great\")\n",
    "     else:\n",
    "         print(\"Not so great\")\n",
    "\n",
    "else:\n",
    "    print(\"Odd\")\n",
    "\n",
    "print(\"Bye\")"
   ]
  },
  {
   "cell_type": "code",
   "execution_count": 21,
   "metadata": {},
   "outputs": [
    {
     "name": "stdout",
     "output_type": "stream",
     "text": [
      "Wrong Input\n"
     ]
    }
   ],
   "source": [
    "x = 5\n",
    "\n",
    "if x==1:\n",
    "    print(\"one\")\n",
    "\n",
    "elif(x==2):\n",
    "    print(\"Two\")\n",
    "\n",
    "elif(x==3):\n",
    "    print(\"Three\")\n",
    "\n",
    "elif(x==4):\n",
    "    print(\"Four\")\n",
    "\n",
    "else:\n",
    "    print(\"Wrong Input\")"
   ]
  },
  {
   "cell_type": "code",
   "execution_count": null,
   "metadata": {},
   "outputs": [],
   "source": []
  },
  {
   "cell_type": "code",
   "execution_count": null,
   "metadata": {},
   "outputs": [],
   "source": [
    "#20_While loop in Python "
   ]
  },
  {
   "cell_type": "code",
   "execution_count": 24,
   "metadata": {},
   "outputs": [
    {
     "name": "stdout",
     "output_type": "stream",
     "text": [
      "Sreypov\n",
      "Sreypov\n",
      "Sreypov\n"
     ]
    }
   ],
   "source": [
    "i = 1\n",
    "\n",
    "while i<=3:\n",
    "     print(\"Sreypov\")\n",
    "     i=i+1"
   ]
  },
  {
   "cell_type": "code",
   "execution_count": 27,
   "metadata": {},
   "outputs": [
    {
     "name": "stdout",
     "output_type": "stream",
     "text": [
      "Thanks you\n",
      "Thanks you\n",
      "Thanks you\n"
     ]
    }
   ],
   "source": [
    "i = 3\n",
    "while i>=1:\n",
    "    print(\"Thanks you\")\n",
    "    i = i-1"
   ]
  },
  {
   "cell_type": "code",
   "execution_count": 30,
   "metadata": {},
   "outputs": [
    {
     "name": "stdout",
     "output_type": "stream",
     "text": [
      "Sreypov Sokea Sokea \n",
      "Sreypov Sokea Sokea \n",
      "Sreypov Sokea Sokea \n"
     ]
    }
   ],
   "source": [
    "i = 1\n",
    "\n",
    "while i<=3:\n",
    "    print(\"Sreypov \",end=\"\")\n",
    "    j=1\n",
    "    while j<=2:\n",
    "        print(\"Sokea \",end=\"\")\n",
    "        j=j+1\n",
    "\n",
    "    i=i+1\n",
    "    print()"
   ]
  },
  {
   "cell_type": "code",
   "execution_count": null,
   "metadata": {},
   "outputs": [],
   "source": []
  },
  {
   "cell_type": "code",
   "execution_count": null,
   "metadata": {},
   "outputs": [],
   "source": [
    "#21_For Loop in Python"
   ]
  },
  {
   "cell_type": "code",
   "execution_count": 32,
   "metadata": {},
   "outputs": [
    {
     "name": "stdout",
     "output_type": "stream",
     "text": [
      "Sreypov\n",
      "65\n",
      "2.5\n"
     ]
    }
   ],
   "source": [
    "x = [\"Sreypov\",65,2.5]\n",
    "for i in x:\n",
    "     print(i)"
   ]
  },
  {
   "cell_type": "code",
   "execution_count": 39,
   "metadata": {},
   "outputs": [
    {
     "name": "stdout",
     "output_type": "stream",
     "text": [
      "H\n",
      "a\n",
      "p\n",
      "p\n",
      "y\n"
     ]
    }
   ],
   "source": [
    "# let's see the out put style of 2 example below\n",
    "x = 'Happy'\n",
    "for i in x:\n",
    "     print(i)"
   ]
  },
  {
   "cell_type": "code",
   "execution_count": 40,
   "metadata": {},
   "outputs": [
    {
     "name": "stdout",
     "output_type": "stream",
     "text": [
      "Happy\n"
     ]
    }
   ],
   "source": [
    "for i in ['Happy']:\n",
    "     print(i)"
   ]
  },
  {
   "cell_type": "code",
   "execution_count": 42,
   "metadata": {},
   "outputs": [
    {
     "name": "stdout",
     "output_type": "stream",
     "text": [
      "0\n",
      "1\n",
      "2\n",
      "3\n",
      "4\n"
     ]
    }
   ],
   "source": [
    "for i in range(5):\n",
    "     print(i)"
   ]
  },
  {
   "cell_type": "code",
   "execution_count": 50,
   "metadata": {},
   "outputs": [
    {
     "name": "stdout",
     "output_type": "stream",
     "text": [
      "11\n",
      "13\n",
      "15\n",
      "17\n",
      "19\n"
     ]
    }
   ],
   "source": [
    "for i in range(11,21,2):  # 11start, stop before 21, 2 step to increase  \n",
    "     print(i)"
   ]
  },
  {
   "cell_type": "code",
   "execution_count": 51,
   "metadata": {},
   "outputs": [
    {
     "name": "stdout",
     "output_type": "stream",
     "text": [
      "20\n",
      "19\n",
      "18\n",
      "17\n",
      "16\n"
     ]
    }
   ],
   "source": [
    "for i in range(20,15,-1):\n",
    "     print(i)"
   ]
  },
  {
   "cell_type": "code",
   "execution_count": 49,
   "metadata": {},
   "outputs": [
    {
     "name": "stdout",
     "output_type": "stream",
     "text": [
      "1\n",
      "2\n",
      "3\n",
      "4\n",
      "6\n",
      "7\n",
      "8\n",
      "9\n",
      "11\n",
      "12\n",
      "13\n",
      "14\n",
      "16\n",
      "17\n",
      "18\n",
      "19\n"
     ]
    }
   ],
   "source": [
    "for i in range(1,21):\n",
    "    if i%5!=0:\n",
    "        print(i)"
   ]
  },
  {
   "cell_type": "code",
   "execution_count": null,
   "metadata": {},
   "outputs": [],
   "source": []
  },
  {
   "cell_type": "code",
   "execution_count": null,
   "metadata": {},
   "outputs": [],
   "source": [
    "#22_Break Continue Pass in Python"
   ]
  },
  {
   "cell_type": "code",
   "execution_count": 6,
   "metadata": {},
   "outputs": [
    {
     "name": "stdout",
     "output_type": "stream",
     "text": [
      "2\n",
      "4\n",
      "6\n",
      "8\n",
      "10\n",
      "12\n",
      "14\n",
      "16\n",
      "18\n",
      "ByeBye!\n"
     ]
    }
   ],
   "source": [
    "for i in range(1,20):\n",
    "\n",
    "    if(i%2!=0):\n",
    "        pass\n",
    "\n",
    "    else:\n",
    "        print(i)\n",
    "\n",
    "print(\"ByeBye!\")\n"
   ]
  },
  {
   "cell_type": "code",
   "execution_count": 9,
   "metadata": {},
   "outputs": [
    {
     "name": "stdout",
     "output_type": "stream",
     "text": [
      "1\n",
      "2\n",
      "3\n",
      "4\n",
      "5\n",
      "6\n",
      "7\n",
      "8\n",
      "9\n",
      "10\n",
      "11\n",
      "12\n",
      "13\n",
      "14\n",
      "16\n",
      "17\n",
      "18\n",
      "19\n",
      "Bye\n"
     ]
    }
   ],
   "source": [
    "for i in range(1,20):\n",
    "\n",
    "     if i%3==0 and i%5==0:\n",
    "         continue\n",
    "\n",
    "     print(i)\n",
    "\n",
    "print(\"Bye\")"
   ]
  },
  {
   "cell_type": "code",
   "execution_count": 11,
   "metadata": {},
   "outputs": [
    {
     "name": "stdout",
     "output_type": "stream",
     "text": [
      "Candy\n",
      "Candy\n",
      "Candy\n",
      "Candy\n",
      "Candy\n",
      "Out of stock\n",
      "Bye\n"
     ]
    }
   ],
   "source": [
    "av = 5\n",
    "\n",
    "x = int(input(\"How many Candies you want?\"))\n",
    "\n",
    "i = 1\n",
    "while i <= x:\n",
    "\n",
    "    if i>av:\n",
    "         print(\"Out of stock\")\n",
    "         break\n",
    "\n",
    "\n",
    "    print(\"Candy\")\n",
    "    i+=1\n",
    "\n",
    "print(\"Bye\")"
   ]
  },
  {
   "cell_type": "code",
   "execution_count": 12,
   "metadata": {},
   "outputs": [
    {
     "name": "stdout",
     "output_type": "stream",
     "text": [
      "2\n",
      "4\n",
      "6\n",
      "8\n",
      "10\n",
      "12\n",
      "14\n",
      "16\n",
      "18\n",
      "20\n",
      "22\n",
      "24\n",
      "26\n",
      "28\n",
      "Bye\n"
     ]
    }
   ],
   "source": [
    "#22.1_Break vs Continue vs Pass\n",
    "\n",
    "for i in range(1,30):\n",
    "\n",
    "    if(i%2!=0):\n",
    "        pass\n",
    "\n",
    "    else:\n",
    "        print(i)\n",
    "\n",
    "print(\"Bye\")"
   ]
  },
  {
   "cell_type": "code",
   "execution_count": 13,
   "metadata": {},
   "outputs": [
    {
     "name": "stdout",
     "output_type": "stream",
     "text": [
      "Hello  0\n",
      "Hello  1\n",
      "Hello  2\n"
     ]
    }
   ],
   "source": [
    "\n",
    "for i in range(5):\n",
    "\n",
    "    if i==3:\n",
    "        break\n",
    "    print(\"Hello \",i)\n",
    "\n",
    "    if i==4:\n",
    "        pass\n",
    "\n",
    "\n",
    "def fun():\n",
    "     pass\n",
    "\n",
    "a = 5\n",
    "\n",
    "class Human:\n",
    "    pass"
   ]
  },
  {
   "cell_type": "code",
   "execution_count": 14,
   "metadata": {},
   "outputs": [
    {
     "name": "stdout",
     "output_type": "stream",
     "text": [
      "# # # # \n",
      "# # # \n",
      "# # \n",
      "# \n"
     ]
    }
   ],
   "source": [
    "#23_Printing Patterns in Python\n",
    "\n",
    "for i in range(4):                              # # # #\n",
    "    for j in range(4 - i):                      # # #\n",
    "        print(\"# \",end=\"\")                      # #\n",
    "                                                #\n",
    "    print()"
   ]
  },
  {
   "cell_type": "code",
   "execution_count": 15,
   "metadata": {},
   "outputs": [
    {
     "name": "stdout",
     "output_type": "stream",
     "text": [
      "10\n"
     ]
    }
   ],
   "source": [
    "#24_For Else in Python\n",
    "\n",
    "nums = [10,16,18,21,26]\n",
    "\n",
    "for num in nums:\n",
    "\n",
    "    if num % 5 == 0:\n",
    "        print(num)\n",
    "        break\n",
    "else:\n",
    "    print(\"not found\")"
   ]
  },
  {
   "cell_type": "code",
   "execution_count": 16,
   "metadata": {},
   "outputs": [
    {
     "name": "stdout",
     "output_type": "stream",
     "text": [
      "Not Prime\n"
     ]
    }
   ],
   "source": [
    "#25_Prime Number\n",
    "\n",
    "num = 10\n",
    "\n",
    "for i in range(2,num):\n",
    "    if num % i == 0:\n",
    "        print(\"Not Prime\")\n",
    "        break\n",
    "else:\n",
    "    print(\"Prime\")"
   ]
  },
  {
   "cell_type": "code",
   "execution_count": 51,
   "metadata": {},
   "outputs": [
    {
     "name": "stdout",
     "output_type": "stream",
     "text": [
      "25\n",
      "81\n",
      "64\n",
      "16\n",
      "4\n"
     ]
    }
   ],
   "source": [
    "#26_Array in Python\n",
    "\n",
    "from array import *\n",
    "vals = array('i',[5,9,8,4,2])\n",
    "newArr = array(vals.typecode, (a*a for a in vals))\n",
    "\n",
    "i = 0\n",
    "\n",
    "while i<len(newArr):\n",
    "    print(newArr[i])\n",
    "    i+=1"
   ]
  },
  {
   "cell_type": "code",
   "execution_count": 52,
   "metadata": {},
   "outputs": [
    {
     "name": "stdout",
     "output_type": "stream",
     "text": [
      "array('i', [2, 1])\n",
      "0\n",
      "0\n"
     ]
    }
   ],
   "source": [
    "#27_Array values from User in Python\n",
    "\n",
    "from array import *\n",
    "\n",
    "arr = array('i',[])\n",
    "\n",
    "n = int(input(\"Enter the length of the array\"))\n",
    "\n",
    "for i in range(n):\n",
    "    x = int(input(\"Enter the next value\"))\n",
    "    arr.append(x)\n",
    "\n",
    "print(arr)\n",
    "\n",
    "val = int(input(\"Enter the value for search\"))\n",
    "\n",
    "k = 0\n",
    "for e in arr:\n",
    "    if e==val:\n",
    "        print(k)\n",
    "        break\n",
    "\n",
    "    k+=1\n",
    "\n",
    "print(arr.index(val))"
   ]
  },
  {
   "cell_type": "code",
   "execution_count": 53,
   "metadata": {},
   "outputs": [
    {
     "name": "stdout",
     "output_type": "stream",
     "text": [
      "[1 2 3 2 5 4]\n"
     ]
    }
   ],
   "source": [
    "#28_Why Numpy? Installing Numpy in Pycharm\n",
    "\n",
    "from numpy import *\n",
    "\n",
    "arr = array([1,2,3,2,5,4],int)\n",
    "\n",
    "print(arr)"
   ]
  },
  {
   "cell_type": "code",
   "execution_count": 5,
   "metadata": {},
   "outputs": [
    {
     "name": "stdout",
     "output_type": "stream",
     "text": [
      "[1 1 1 1 1]\n"
     ]
    }
   ],
   "source": [
    "#29_Ways of Creating Arrays in Numpy\n",
    "\n",
    "from numpy import *\n",
    "\n",
    "# arr = array([1,2,3,4,5],float)\n",
    "#\n",
    "# print(arr.dtype)\n",
    "# print(arr)\n",
    "\n",
    "# arr = linspace(0,15)\n",
    "# arr = arange(1,15,2)\n",
    "\n",
    "# arr = logspace(1,40,5)\n",
    "# print('%.2f' %arr[4])\n",
    "\n",
    "arr = ones(5,int)\n",
    "print(arr)"
   ]
  },
  {
   "cell_type": "code",
   "execution_count": 6,
   "metadata": {},
   "outputs": [
    {
     "name": "stdout",
     "output_type": "stream",
     "text": [
      "[2 7 8 1 3]\n",
      "[2 6 8 1 3]\n",
      "1543070038800\n",
      "1543195970704\n"
     ]
    }
   ],
   "source": [
    "#30_Copying an Array\n",
    "\n",
    "from numpy import *\n",
    "\n",
    "\n",
    "arr1 = array([2,6,8,1,3])\n",
    "# arr2 = arr1.view()\n",
    "arr2 = arr1.copy()\n",
    "\n",
    "arr1[1] = 7\n",
    "\n",
    "print(arr1)\n",
    "print(arr2)\n",
    "\n",
    "print(id(arr1))\n",
    "print(id(arr2))"
   ]
  },
  {
   "cell_type": "code",
   "execution_count": 7,
   "metadata": {},
   "outputs": [
    {
     "name": "stdout",
     "output_type": "stream",
     "text": [
      "[[19 36 34]\n",
      " [40 74 73]\n",
      " [51 92 82]]\n"
     ]
    }
   ],
   "source": [
    "#31_Working with Matrix\n",
    "\n",
    "from numpy import *\n",
    "m1 = matrix('1 2 3; 6 4 5;1 6 7')\n",
    "m2 = matrix('1 2 3; 6 8 5;2 6 7')\n",
    "\n",
    "m3 = m1 * m2\n",
    "print(m3)"
   ]
  },
  {
   "cell_type": "code",
   "execution_count": 14,
   "metadata": {},
   "outputs": [
    {
     "name": "stdout",
     "output_type": "stream",
     "text": [
      "9 1\n"
     ]
    }
   ],
   "source": [
    "#32_Functions in Python\n",
    "\n",
    "def add_sub(x,y):\n",
    "    c = x+y\n",
    "    d = x-y\n",
    "    return c,d\n",
    "\n",
    "result1,result2 = add_sub(5,4)\n",
    "print(result1, result2)"
   ]
  },
  {
   "cell_type": "code",
   "execution_count": 9,
   "metadata": {},
   "outputs": [
    {
     "name": "stdout",
     "output_type": "stream",
     "text": [
      "1543195854080\n",
      "1543195854080\n",
      "1543195854080\n",
      "x  [10, 25, 30]\n",
      "lst  [10, 25, 30]\n"
     ]
    }
   ],
   "source": [
    "#33_Function Arguments\n",
    "\n",
    "def update(lst):\n",
    "\n",
    "    print(id(lst))\n",
    "\n",
    "    lst[1] = 25\n",
    "    print(id(lst))\n",
    "    print(\"x \", lst)\n",
    "\n",
    "lst = [10,20,30]\n",
    "print(id(lst))\n",
    "update(lst)\n",
    "print(\"lst \", lst)"
   ]
  },
  {
   "cell_type": "code",
   "execution_count": 10,
   "metadata": {},
   "outputs": [
    {
     "name": "stdout",
     "output_type": "stream",
     "text": [
      "123\n"
     ]
    }
   ],
   "source": [
    "#34_Types of Arguments\n",
    "\n",
    "def sum(*b):\n",
    "\n",
    "   c = 0\n",
    "   for i in b:\n",
    "       c = c + i\n",
    "\n",
    "   print(c)\n",
    "\n",
    "sum(5,6,34,78)"
   ]
  },
  {
   "cell_type": "code",
   "execution_count": 11,
   "metadata": {},
   "outputs": [
    {
     "name": "stdout",
     "output_type": "stream",
     "text": [
      "navin\n",
      "age 28\n",
      "city Mumbai\n",
      "mob 9865432\n"
     ]
    }
   ],
   "source": [
    "#35_Keyworded Variable Length Arguments\n",
    "\n",
    "def person(name, **data):\n",
    "    print(name)\n",
    "    for i,j in data.items():\n",
    "        print(i,j)\n",
    "person('navin',age=28,city='Mumbai',mob=9865432)"
   ]
  },
  {
   "cell_type": "code",
   "execution_count": 12,
   "metadata": {},
   "outputs": [
    {
     "name": "stdout",
     "output_type": "stream",
     "text": [
      "1542989376080\n",
      "1542989376080\n",
      "in fun  9\n",
      "outside  15\n"
     ]
    }
   ],
   "source": [
    "#36_Global Keyword in Python\n",
    "\n",
    "a = 10\n",
    "print(id(a))\n",
    "\n",
    "def something():\n",
    "    a = 9\n",
    "\n",
    "    x = globals()['a']\n",
    "    print(id(x))\n",
    "    print(\"in fun \",a)\n",
    "\n",
    "    globals()['a'] = 15\n",
    "\n",
    "\n",
    "\n",
    "something()\n",
    "\n",
    "print(\"outside \",a)"
   ]
  },
  {
   "cell_type": "code",
   "execution_count": 13,
   "metadata": {},
   "outputs": [
    {
     "name": "stdout",
     "output_type": "stream",
     "text": [
      "Even : 6 and Odd : 3\n"
     ]
    }
   ],
   "source": [
    "#37_Pass List to a Function\n",
    "\n",
    "def count(lst):\n",
    "\n",
    "    even = 0\n",
    "    odd = 0\n",
    "\n",
    "    for i in  lst:\n",
    "        if i%2==0:\n",
    "            even+=1\n",
    "        else:\n",
    "            odd+=1\n",
    "\n",
    "    return even,odd\n",
    "\n",
    "lst = [20,25,14,19,16,24,28,47,26]\n",
    "\n",
    "even , odd = count(lst)\n",
    "\n",
    "print(\"Even : {} and Odd : {}\".format(even,odd))"
   ]
  },
  {
   "cell_type": "code",
   "execution_count": 14,
   "metadata": {},
   "outputs": [
    {
     "name": "stdout",
     "output_type": "stream",
     "text": [
      "0\n",
      "1\n",
      "2\n",
      "3\n",
      "5\n",
      "8\n",
      "13\n",
      "21\n",
      "34\n",
      "55\n",
      "89\n",
      "144\n",
      "233\n",
      "377\n",
      "610\n",
      "987\n",
      "1597\n",
      "2584\n",
      "4181\n",
      "6765\n",
      "10946\n",
      "17711\n",
      "28657\n",
      "46368\n",
      "75025\n",
      "121393\n",
      "196418\n",
      "317811\n",
      "514229\n",
      "832040\n",
      "1346269\n",
      "2178309\n",
      "3524578\n",
      "5702887\n",
      "9227465\n",
      "14930352\n",
      "24157817\n",
      "39088169\n",
      "63245986\n",
      "102334155\n",
      "165580141\n",
      "267914296\n",
      "433494437\n",
      "701408733\n",
      "1134903170\n",
      "1836311903\n",
      "2971215073\n",
      "4807526976\n",
      "7778742049\n",
      "12586269025\n",
      "20365011074\n",
      "32951280099\n",
      "53316291173\n",
      "86267571272\n",
      "139583862445\n",
      "225851433717\n",
      "365435296162\n",
      "591286729879\n",
      "956722026041\n",
      "1548008755920\n",
      "2504730781961\n",
      "4052739537881\n",
      "6557470319842\n",
      "10610209857723\n",
      "17167680177565\n",
      "27777890035288\n",
      "44945570212853\n",
      "72723460248141\n",
      "117669030460994\n",
      "190392490709135\n",
      "308061521170129\n",
      "498454011879264\n",
      "806515533049393\n",
      "1304969544928657\n",
      "2111485077978050\n",
      "3416454622906707\n",
      "5527939700884757\n",
      "8944394323791464\n",
      "14472334024676221\n",
      "23416728348467685\n",
      "37889062373143906\n",
      "61305790721611591\n",
      "99194853094755497\n",
      "160500643816367088\n",
      "259695496911122585\n",
      "420196140727489673\n",
      "679891637638612258\n",
      "1100087778366101931\n",
      "1779979416004714189\n",
      "2880067194370816120\n",
      "4660046610375530309\n",
      "7540113804746346429\n",
      "12200160415121876738\n",
      "19740274219868223167\n",
      "31940434634990099905\n",
      "51680708854858323072\n",
      "83621143489848422977\n",
      "135301852344706746049\n",
      "218922995834555169026\n",
      "354224848179261915075\n"
     ]
    }
   ],
   "source": [
    "#38_Fibonacci Sequence\n",
    "\n",
    "def fib(n):\n",
    "\n",
    "    a = 0\n",
    "    b = 1\n",
    "\n",
    "    if n == 1:\n",
    "        print(a)\n",
    "\n",
    "    else:\n",
    "        print(a)\n",
    "        print(b)\n",
    "\n",
    "    for i in range(2,n):\n",
    "        c = a + b\n",
    "        a = b\n",
    "        b = c\n",
    "        print(a+b)\n",
    "\n",
    "fib(100)"
   ]
  },
  {
   "cell_type": "code",
   "execution_count": 15,
   "metadata": {},
   "outputs": [
    {
     "name": "stdout",
     "output_type": "stream",
     "text": [
      "24\n"
     ]
    }
   ],
   "source": [
    "#39_Factorial\n",
    "def fact(n):\n",
    "\n",
    "    f = 1\n",
    "\n",
    "    for i in range(1,n+1):\n",
    "        f = f * i\n",
    "    return f\n",
    "\n",
    "\n",
    "x = 4\n",
    "\n",
    "result = fact(x)\n",
    "\n",
    "\n",
    "print(result)"
   ]
  },
  {
   "cell_type": "code",
   "execution_count": 21,
   "metadata": {},
   "outputs": [
    {
     "name": "stdout",
     "output_type": "stream",
     "text": [
      "2000\n",
      "Hello  0\n",
      "Hello  1\n",
      "Hello  2\n",
      "Hello  3\n",
      "Hello  4\n"
     ]
    }
   ],
   "source": [
    "#40_Recursion\n",
    "\n",
    "import sys\n",
    "\n",
    "\n",
    "n = 2000\n",
    "sys.setrecursionlimit(n)\n",
    "print(sys.getrecursionlimit())\n",
    "def greet(i=0):\n",
    "    if i < 5:  # Set a limit to the recursion depth\n",
    "        print(\"Hello \", i)\n",
    "        i += 1\n",
    "        greet(i)\n",
    "\n",
    "# Call the function\n",
    "greet()"
   ]
  },
  {
   "cell_type": "code",
   "execution_count": 22,
   "metadata": {},
   "outputs": [
    {
     "name": "stdout",
     "output_type": "stream",
     "text": [
      "120\n"
     ]
    }
   ],
   "source": [
    "#41_Factorial using Recursion\n",
    "\n",
    "def fact(n):\n",
    "\n",
    "    if(n==0):\n",
    "        return 1\n",
    "\n",
    "    return n * fact(n-1)\n",
    "\n",
    "\n",
    "\n",
    "result = fact(5)\n",
    "\n",
    "print(result)"
   ]
  },
  {
   "cell_type": "code",
   "execution_count": 55,
   "metadata": {},
   "outputs": [
    {
     "name": "stdout",
     "output_type": "stream",
     "text": [
      "11\n"
     ]
    }
   ],
   "source": [
    "#42_Anonymous Functions | Lambda\n",
    "\n",
    "f = lambda a,b : a+b\n",
    "\n",
    "result = f(5,6)\n",
    "\n",
    "print(result)"
   ]
  },
  {
   "cell_type": "code",
   "execution_count": 24,
   "metadata": {},
   "outputs": [
    {
     "name": "stdout",
     "output_type": "stream",
     "text": [
      "[4, 12, 16, 8, 12, 4]\n",
      "56\n"
     ]
    }
   ],
   "source": [
    "#43_Filter Map Reduce\n",
    "\n",
    "from functools import reduce\n",
    "\n",
    "nums = [3,2,6,8,4,6,2,9]\n",
    "\n",
    "evens = list(filter(lambda n : n%2==0,nums))\n",
    "\n",
    "doubles = list(map(lambda n : n*2,evens))\n",
    "print(doubles)\n",
    "\n",
    "sum = reduce(lambda a,b : a+b,doubles)\n",
    "\n",
    "print(sum)"
   ]
  },
  {
   "cell_type": "code",
   "execution_count": 25,
   "metadata": {},
   "outputs": [
    {
     "name": "stdout",
     "output_type": "stream",
     "text": [
      "2.0\n"
     ]
    }
   ],
   "source": [
    "#44_Decorators\n",
    "\n",
    "def div(a,b):\n",
    "    print(a/b)\n",
    "\n",
    "def smart_div(func):\n",
    "\n",
    "    def inner(a,b):\n",
    "\n",
    "        if a<b:\n",
    "            a,b = b,a\n",
    "        return func(a,b)\n",
    "\n",
    "    return inner\n",
    "\n",
    "div = smart_div(div)\n",
    "\n",
    "div(2,4)"
   ]
  },
  {
   "cell_type": "code",
   "execution_count": 59,
   "metadata": {},
   "outputs": [
    {
     "name": "stdout",
     "output_type": "stream",
     "text": [
      "63\n"
     ]
    }
   ],
   "source": [
    "#45_Modules\n",
    "#I've create a module name Calc that stor the math method for Calculate\n",
    "# def add(a,b):\n",
    "#     return a+b\n",
    "\n",
    "# def sub(a,b):\n",
    "#     return a-b\n",
    "\n",
    "# def mul(a,b):\n",
    "#     return a*b\n",
    "\n",
    "# def div(a,b):\n",
    "#     return a/b\n",
    "\n",
    "from Calc import *\n",
    "\n",
    "a = 9\n",
    "b = 7\n",
    "\n",
    "# c = sub(a,b)\n",
    "c = mul(a,b)\n",
    "\n",
    "print(c)"
   ]
  },
  {
   "cell_type": "code",
   "execution_count": 60,
   "metadata": {},
   "outputs": [
    {
     "name": "stdout",
     "output_type": "stream",
     "text": [
      "Hello\n",
      "Welcome User\n",
      "Its Time to Calculate\n"
     ]
    }
   ],
   "source": [
    "#46_Special Variable __name__\n",
    "\n",
    "def main():\n",
    "\n",
    "    print(\"Hello\")\n",
    "    print(\"Welcome User\")\n",
    "\n",
    "if __name__ == \"__main__\":\n",
    "    main()\n",
    "\n",
    "print(\"Its Time to Calculate\")"
   ]
  },
  {
   "cell_type": "code",
   "execution_count": 62,
   "metadata": {},
   "outputs": [
    {
     "name": "stdout",
     "output_type": "stream",
     "text": [
      "result 1 is  Calc_1\n",
      "from fun1\n",
      "from fun2\n"
     ]
    }
   ],
   "source": [
    "#47_Special Variable __name__ part 2\n",
    "\n",
    "from Calc_1 import *\n",
    "\n",
    "\n",
    "def fun1():\n",
    "    add()\n",
    "    print(\"from fun1\")\n",
    "\n",
    "def fun2():\n",
    "    print(\"from fun2\")\n",
    "\n",
    "def main():\n",
    "    fun1()\n",
    "    fun2()\n",
    "\n",
    "\n",
    "main()\n"
   ]
  },
  {
   "cell_type": "code",
   "execution_count": 63,
   "metadata": {},
   "outputs": [
    {
     "name": "stdout",
     "output_type": "stream",
     "text": [
      "i5, 16gb, 1TB\n",
      "i5, 16gb, 1TB\n",
      "i5, 16gb, 1TB\n",
      "i5, 16gb, 1TB\n"
     ]
    }
   ],
   "source": [
    "#48_Object Oriented Programming\n",
    "#49_Class and Object\n",
    "\n",
    "class Computer:\n",
    "\n",
    "    def config(self):\n",
    "        print(\"i5, 16gb, 1TB\")\n",
    "\n",
    "com1 = Computer()\n",
    "com2 = Computer()\n",
    "\n",
    "\n",
    "Computer.config(com1)\n",
    "Computer.config(com2)\n",
    "\n",
    "com1.config()\n",
    "com2.config()"
   ]
  },
  {
   "cell_type": "code",
   "execution_count": 65,
   "metadata": {},
   "outputs": [
    {
     "name": "stdout",
     "output_type": "stream",
     "text": [
      "Config is  i5 16\n",
      "Config is  Ryzen 3 8\n"
     ]
    }
   ],
   "source": [
    "#50__init__ method\n",
    "\n",
    "class Computer:\n",
    "\n",
    "    def __init__(self,cpu,ram):\n",
    "        self.cpu = cpu\n",
    "        self.ram = ram\n",
    "\n",
    "    def config(self):\n",
    "        print(\"Config is \",self.cpu, self.ram)\n",
    "\n",
    "com1 = Computer('i5',16)\n",
    "com2 = Computer('Ryzen 3',8)\n",
    "\n",
    "\n",
    "com1.config()\n",
    "com2.config()"
   ]
  },
  {
   "cell_type": "code",
   "execution_count": 15,
   "metadata": {},
   "outputs": [
    {
     "name": "stdout",
     "output_type": "stream",
     "text": [
      "They are different\n",
      "Sreypov\n",
      "Sreypov\n"
     ]
    }
   ],
   "source": [
    "#51_Constructor, Self and Comparing Objects\n",
    "\n",
    "class Computer:\n",
    "\n",
    "    def __init__(self):\n",
    "        self.name = \"Sreypov\"\n",
    "        self.age = 28\n",
    "\n",
    "\n",
    "    def compare(self,other):\n",
    "        if self.age == other.age:\n",
    "            return True\n",
    "        else:\n",
    "            return False\n",
    "\n",
    "\n",
    "c1 = Computer()\n",
    "c1.age = 30\n",
    "c2 = Computer()\n",
    "\n",
    "# c1.name = \"Rashi\"\n",
    "# c1.age = 12\n",
    "\n",
    "if c1.compare(c2):\n",
    "    print(\"They are same\")\n",
    "else:\n",
    "    print(\"They are different\")\n",
    "\n",
    "# c1.update()\n",
    "\n",
    "print(c1.name)\n",
    "print(c2.name)"
   ]
  },
  {
   "cell_type": "code",
   "execution_count": 67,
   "metadata": {},
   "outputs": [
    {
     "name": "stdout",
     "output_type": "stream",
     "text": [
      "BMW 8 5\n",
      "BMW 10 5\n"
     ]
    }
   ],
   "source": [
    "#52_Types of Variables\n",
    "\n",
    "class Car:\n",
    "\n",
    "    wheels = 4\n",
    "\n",
    "    def __init__(self):\n",
    "        self.mil = 10\n",
    "        self.com = \"BMW\"\n",
    "\n",
    "\n",
    "c1 = Car()\n",
    "c2 = Car()\n",
    "\n",
    "c1.mil = 8\n",
    "\n",
    "Car.wheels = 5\n",
    "\n",
    "print(c1.com , c1.mil , c1.wheels)\n",
    "print(c2.com , c2.mil , c2.wheels)"
   ]
  },
  {
   "cell_type": "code",
   "execution_count": 68,
   "metadata": {},
   "outputs": [
    {
     "name": "stdout",
     "output_type": "stream",
     "text": [
      "37.666666666666664\n",
      "Soonchunhyang University\n",
      "This is Student class.. in abc molude\n"
     ]
    }
   ],
   "source": [
    "#53_Types of Methods\n",
    "\n",
    "class Student:\n",
    "\n",
    "    school = 'Soonchunhyang University'\n",
    "\n",
    "    def __init__(self,m1,m2,m3):\n",
    "        self.m1 = m1\n",
    "        self.m2 = m2\n",
    "        self.m3 = m3\n",
    "\n",
    "    def avg(self):\n",
    "        return (self.m1 + self.m2 + self.m3)/3\n",
    "\n",
    "    @classmethod\n",
    "    def getSchool(cls):\n",
    "        return cls.school\n",
    "\n",
    "    @staticmethod\n",
    "    def info():\n",
    "        print(\"This is Student class.. in abc molude\")\n",
    "\n",
    "s1 = Student(34,47,32)\n",
    "s2 = Student(89,32,12)\n",
    "\n",
    "\n",
    "\n",
    "print(s1.avg())\n",
    "print(Student.getSchool())\n",
    "\n",
    "Student.info()"
   ]
  },
  {
   "cell_type": "code",
   "execution_count": 16,
   "metadata": {},
   "outputs": [
    {
     "name": "stdout",
     "output_type": "stream",
     "text": [
      "Sreypov 2\n",
      "Hp i5 8\n"
     ]
    }
   ],
   "source": [
    "#54_Inner class\n",
    "\n",
    "class Student:\n",
    "\n",
    "    def __init__(self,name,rollno):\n",
    "        self.name = name\n",
    "        self.rollno = rollno\n",
    "        self.lap = self.Laptop()\n",
    "\n",
    "    def show(self):\n",
    "        print(self.name , self.rollno)\n",
    "        self.lap.show()\n",
    "\n",
    "    class Laptop:\n",
    "\n",
    "        def __init__(self):\n",
    "            self.brand = \"Hp\"\n",
    "            self.cpu = 'i5'\n",
    "            self.ram = 8\n",
    "\n",
    "        def show(self):\n",
    "            print(self.brand,self.cpu,self.ram)\n",
    "\n",
    "\n",
    "s1 = Student('Sreypov',2)\n",
    "s2 = Student('Sokea',3)\n",
    "\n",
    "s1.show()\n",
    "\n",
    "lap1 = Student.Laptop()"
   ]
  },
  {
   "cell_type": "code",
   "execution_count": 38,
   "metadata": {},
   "outputs": [
    {
     "name": "stdout",
     "output_type": "stream",
     "text": [
      "Feature 1 working\n",
      "Feature 2 working\n"
     ]
    }
   ],
   "source": [
    "#55_Inheritance\n",
    "\n",
    "class A:\n",
    "    def feature1(self):\n",
    "        print(\"Feature 1 working\")\n",
    "\n",
    "    def feature2(self):\n",
    "        print(\"Feature 2 working\")\n",
    "\n",
    "class B:\n",
    "    def feature3(self):\n",
    "        print(\"Feature 3 working\")\n",
    "\n",
    "    def feature4(self):\n",
    "        print(\"Feature 4 working\")\n",
    "\n",
    "class C(A,B):\n",
    "    def feature5(self):\n",
    "        print(\"Feature 5 working\")\n",
    "\n",
    "\n",
    "a1 = A()\n",
    "\n",
    "a1.feature1()\n",
    "a1.feature2()\n",
    "\n",
    "b1 = B()\n",
    "\n",
    "c1 = C()"
   ]
  },
  {
   "cell_type": "code",
   "execution_count": 18,
   "metadata": {},
   "outputs": [
    {
     "name": "stdout",
     "output_type": "stream",
     "text": [
      "in A Init\n",
      "in C init\n",
      "Feature 2 working\n"
     ]
    }
   ],
   "source": [
    "#56_Constructor in Inheritance\n",
    "\n",
    "class A:\n",
    "    def __init__(self):\n",
    "        print(\"in A Init\")\n",
    "\n",
    "    def feature1(self):\n",
    "        print(\"Feature 1-A working\")\n",
    "\n",
    "    def feature2(self):\n",
    "        print(\"Feature 2 working\")\n",
    "\n",
    "class B:\n",
    "    def __init__(self):\n",
    "        # super().__init__()\n",
    "        print(\"in B Init\")\n",
    "\n",
    "    def feature3(self):\n",
    "        print(\"Feature 1-B working\")\n",
    "\n",
    "    def feature4(self):\n",
    "        print(\"Feature 4 working\")\n",
    "\n",
    "class C(A,B):\n",
    "\n",
    "    def __init__(self):\n",
    "        super().__init__()\n",
    "        print(\"in C init\")\n",
    "\n",
    "\n",
    "    def feat(self):\n",
    "        super().feature2()\n",
    "a1 = C()\n",
    "a1.feat()"
   ]
  },
  {
   "cell_type": "code",
   "execution_count": 40,
   "metadata": {},
   "outputs": [
    {
     "name": "stdout",
     "output_type": "stream",
     "text": [
      "Spell Check\n",
      "Convention Check\n",
      "Compiling\n",
      "Running\n"
     ]
    }
   ],
   "source": [
    "#58_Duck Typing\n",
    "\n",
    "class Pycharm:\n",
    "\n",
    "    def execute(self):\n",
    "        print(\"Compiling\")\n",
    "        print(\"Running\")\n",
    "\n",
    "class MyEditor:\n",
    "    def execute(self):\n",
    "        print(\"Spell Check\")\n",
    "        print(\"Convention Check\")\n",
    "        print(\"Compiling\")\n",
    "        print(\"Running\")\n",
    "\n",
    "class Laptop:\n",
    "\n",
    "    def code(self,ide):\n",
    "        ide.execute()\n",
    "\n",
    "ide = MyEditor()\n",
    "\n",
    "lap1 = Laptop()\n",
    "lap1.code(ide)"
   ]
  },
  {
   "cell_type": "code",
   "execution_count": null,
   "metadata": {},
   "outputs": [],
   "source": [
    "#59_Operator Overloading | Polymorphism"
   ]
  },
  {
   "cell_type": "code",
   "execution_count": 19,
   "metadata": {},
   "outputs": [
    {
     "name": "stdout",
     "output_type": "stream",
     "text": [
      "s2 wins\n",
      "9\n",
      "69 65\n"
     ]
    }
   ],
   "source": [
    "\n",
    "class Student:\n",
    "\n",
    "    def __init__(self,m1,m2):\n",
    "        self.m1 = m1\n",
    "        self.m2 = m2\n",
    "\n",
    "    def __add__(self, other):\n",
    "        m1 = self.m1 + other.m1\n",
    "        m2 = self.m2 + other.m2\n",
    "        s3 = Student(m1,m2)\n",
    "        return  s3\n",
    "\n",
    "    def __gt__(self, other):\n",
    "        r1 = self.m1 + self.m2\n",
    "        r2 = other.m1 + other.m2\n",
    "        if r1 > r2:\n",
    "            return True\n",
    "        else:\n",
    "            return False\n",
    "\n",
    "    def __str__(self):\n",
    "        return '{} {}'.format( self.m1,self.m2)\n",
    "\n",
    "s1 = Student(58,69)\n",
    "s2 = Student(69,65)\n",
    "\n",
    "s3 = s1 + s2\n",
    "if s1 > s2:\n",
    "    print(\"s1 wins\")\n",
    "else:\n",
    "    print(\"s2 wins\")\n",
    "\n",
    "a = 9\n",
    "print(a.__str__())\n",
    "print(s2)"
   ]
  },
  {
   "cell_type": "code",
   "execution_count": 77,
   "metadata": {},
   "outputs": [
    {
     "name": "stdout",
     "output_type": "stream",
     "text": [
      "14\n",
      "In A show\n"
     ]
    }
   ],
   "source": [
    "#60_Method Overloading and Method Overriding\n",
    "\n",
    "class Student:\n",
    "\n",
    "    def __init__(self,m1,m2):\n",
    "        self.m1 = m1\n",
    "        self.m2 = m2\n",
    "\n",
    "    def sum(self, a = None, b = None, c = None):\n",
    "        s = 0\n",
    "        if a != None and b != None and c != None:\n",
    "            s = a + b + c\n",
    "        elif a != None and b != None:\n",
    "            s = a + b\n",
    "        else:\n",
    "            s = a\n",
    "        return s\n",
    "\n",
    "s1 = Student(58,69)\n",
    "\n",
    "print(s1.sum(5,9))\n",
    "\n",
    "class A:\n",
    "    def show(self):\n",
    "        print(\"In A show\")\n",
    "\n",
    "class B(A):\n",
    "    pass\n",
    "\n",
    "s1 = B()\n",
    "s1.show()"
   ]
  },
  {
   "cell_type": "code",
   "execution_count": 86,
   "metadata": {},
   "outputs": [
    {
     "name": "stdout",
     "output_type": "stream",
     "text": [
      "Solving Bugs\n",
      "its running\n",
      "its running\n"
     ]
    }
   ],
   "source": [
    "#Abstract Class and Abstract Method\n",
    "\n",
    "from abc import ABC, abstractmethod\n",
    "class Computer(ABC):\n",
    "    @abstractmethod\n",
    "    def process(self):\n",
    "        pass\n",
    "\n",
    "\n",
    "class Laptop(Computer):\n",
    "    def process(self):\n",
    "        print(\"its running\")\n",
    "    pass\n",
    "\n",
    "class Whiteboard(Computer):\n",
    "    def write(self):\n",
    "        print(\"its writing\")\n",
    "\n",
    "class Programming:\n",
    "    def work(self, com):\n",
    "        print(\"Solving Bugs\")\n",
    "        com.process()\n",
    "        \n",
    "\n",
    "# com = Computer()\n",
    "# com.process()\n",
    "com1 = Laptop() \n",
    "prog1 = Programming()\n",
    "prog1.work(com1)\n",
    "com1.process()"
   ]
  },
  {
   "cell_type": "code",
   "execution_count": 21,
   "metadata": {},
   "outputs": [
    {
     "name": "stdout",
     "output_type": "stream",
     "text": [
      "1\n",
      "2\n",
      "3\n",
      "4\n",
      "5\n",
      "6\n",
      "7\n",
      "8\n",
      "9\n",
      "10\n"
     ]
    }
   ],
   "source": [
    "#61_Iterator\n",
    "\n",
    "\n",
    "# nums = [7, 8, 9, 5]\n",
    "# it = iter(nums)\n",
    "# print(it.__next__())\n",
    "# # print(it.__next__())\n",
    "# print(next(it))\n",
    "# # print(next(it))\n",
    "# for i in nums:\n",
    "#     print(i)\n",
    "\n",
    "class TopTen:\n",
    "    def __init__(self):\n",
    "        self.num = 1\n",
    "\n",
    "    def __iter__(self):\n",
    "        return self\n",
    "    def __next__(self):\n",
    "\n",
    "        if self.num <= 10:\n",
    "            val = self.num\n",
    "            self.num +=1\n",
    "\n",
    "            return val\n",
    "        else:\n",
    "            raise StopIteration\n",
    "        \n",
    "\n",
    "values = TopTen()\n",
    "print(next(values))\n",
    "\n",
    "for i in values:\n",
    "    print(i)"
   ]
  },
  {
   "cell_type": "code",
   "execution_count": 99,
   "metadata": {},
   "outputs": [
    {
     "name": "stdout",
     "output_type": "stream",
     "text": [
      "1\n",
      "4\n",
      "9\n",
      "16\n",
      "25\n",
      "36\n",
      "49\n",
      "64\n",
      "81\n",
      "100\n"
     ]
    }
   ],
   "source": [
    "#62_Generator\n",
    "\n",
    "def topten():\n",
    "    n = 1\n",
    "\n",
    "    while n <= 10:\n",
    "\n",
    "        sq = n*n\n",
    "        yield sq\n",
    "        n+=1\n",
    "\n",
    "value = topten()\n",
    "for i in value:\n",
    "    print(i)"
   ]
  },
  {
   "cell_type": "code",
   "execution_count": 42,
   "metadata": {},
   "outputs": [
    {
     "name": "stdout",
     "output_type": "stream",
     "text": [
      "resource Open\n",
      "2.5\n",
      "5\n",
      "resource Closed\n"
     ]
    }
   ],
   "source": [
    "#63_Exception Handling\n",
    "\n",
    "a = 5\n",
    "b = 2\n",
    "\n",
    "try:\n",
    "    print(\"resource Open\")\n",
    "    print(a/b)\n",
    "    k = int(input(\"Enter a number\"))\n",
    "    print(k)\n",
    "\n",
    "except ZeroDivisionError as e:\n",
    "    print(\"Hey, You cannot divide a Number by Zero\" , e)\n",
    "\n",
    "except ValueError as e:\n",
    "    print(\"Invalid Input\")\n",
    "\n",
    "except Exception as e:\n",
    "    print(\"Something went Wrong...\")\n",
    "\n",
    "finally:\n",
    "    print(\"resource Closed\")"
   ]
  },
  {
   "cell_type": "code",
   "execution_count": 22,
   "metadata": {},
   "outputs": [
    {
     "name": "stdout",
     "output_type": "stream",
     "text": [
      "Hello\n",
      "Hi\n",
      "Hello\n",
      "Hi\n",
      "Hello\n",
      "Hi\n",
      "Bye\n"
     ]
    }
   ],
   "source": [
    "\n",
    "#64_MultiThreading\n",
    "\n",
    "\n",
    "from time import sleep\n",
    "from threading import *\n",
    "\n",
    "class Hello(Thread):\n",
    "    def run(self):\n",
    "        for i in range(3):\n",
    "            print(\"Hello\")\n",
    "            sleep(1)\n",
    "\n",
    "\n",
    "class Hi(Thread):\n",
    "    def run(self):\n",
    "        for i in range(3):\n",
    "            print(\"Hi\")\n",
    "            sleep(1)\n",
    "\n",
    "\n",
    "t1 = Hello()\n",
    "t2 = Hi()\n",
    "\n",
    "t1.start()\n",
    "sleep(0.2)\n",
    "t2.start()\n",
    "\n",
    "t1.join()\n",
    "t2.join()\n",
    "\n",
    "print(\"Bye\")"
   ]
  },
  {
   "cell_type": "code",
   "execution_count": 4,
   "metadata": {},
   "outputs": [],
   "source": [
    "f = open('images/ICT.jpg','rb') # for read image from directory\n",
    "\n",
    "f1 = open('images/ICT Create new.jpg','wb') # for write image to directory\n",
    "\n",
    "# for create new an image\n",
    "for i in f:\n",
    "    f1.write(i)"
   ]
  },
  {
   "cell_type": "code",
   "execution_count": 5,
   "metadata": {},
   "outputs": [
    {
     "name": "stdout",
     "output_type": "stream",
     "text": [
      "Found at  5\n"
     ]
    }
   ],
   "source": [
    "#68_Linear Search using Python\n",
    "\n",
    "pos = -1\n",
    "\n",
    "def search(list, n):\n",
    "    i = 0\n",
    "\n",
    "    while i< len(list):\n",
    "        if list[i] == n:\n",
    "            globals()['pos'] = i\n",
    "            return True\n",
    "        i = i + 1\n",
    "\n",
    "    return False\n",
    "\n",
    "list = [5,8,4,6,9,2]\n",
    "n = 9\n",
    "\n",
    "if search(list, n):\n",
    "    print(\"Found at \",pos+1)\n",
    "else:\n",
    "    print(\"Not Found\")"
   ]
  },
  {
   "cell_type": "code",
   "execution_count": 8,
   "metadata": {},
   "outputs": [
    {
     "name": "stdout",
     "output_type": "stream",
     "text": [
      "Found at index: 4\n"
     ]
    }
   ],
   "source": [
    "#69_Binary Search Using Python\n",
    "\n",
    "pos = -1\n",
    "\n",
    "def search(list, n):\n",
    "\n",
    "    l = 0\n",
    "    u = len(list)-1\n",
    "\n",
    "    while l <= u:\n",
    "        mid = (l+u) // 2\n",
    "\n",
    "        if list[mid] == n:\n",
    "            globals()['pos'] = mid\n",
    "            return True\n",
    "        else:\n",
    "            if list[mid] < n:\n",
    "                l = mid+1\n",
    "            else:\n",
    "                u = mid-1\n",
    "\n",
    "    return False\n",
    "\n",
    "\n",
    "list = [4,7,8,12,45,99,102,702,10987,56666]\n",
    "n = 12\n",
    "\n",
    "if search(list, n):\n",
    "    print(\"Found at index:\",pos+1)\n",
    "else:\n",
    "    print(\"Not Found\")"
   ]
  },
  {
   "cell_type": "code",
   "execution_count": 9,
   "metadata": {},
   "outputs": [
    {
     "name": "stdout",
     "output_type": "stream",
     "text": [
      "[2, 3, 5, 6, 7, 8]\n"
     ]
    }
   ],
   "source": [
    "#70_Bubble Sort in python | List Sort\n",
    "\n",
    "def sort(nums):\n",
    "\n",
    "    for i in range(len(nums)-1,0,-1):\n",
    "        for j in range(i):\n",
    "            if nums[j]>nums[j+1]:\n",
    "                temp = nums[j]\n",
    "                nums[j] = nums[j+1]\n",
    "                nums[j+1] = temp\n",
    "\n",
    "\n",
    "nums = [5, 3, 8, 6, 7, 2]\n",
    "sort(nums)\n",
    "\n",
    "print(nums)"
   ]
  },
  {
   "cell_type": "code",
   "execution_count": 10,
   "metadata": {},
   "outputs": [
    {
     "name": "stdout",
     "output_type": "stream",
     "text": [
      "[2, 3, 8, 6, 7, 5]\n",
      "[2, 3, 8, 6, 7, 5]\n",
      "[2, 3, 5, 6, 7, 8]\n",
      "[2, 3, 5, 6, 7, 8]\n",
      "[2, 3, 5, 6, 7, 8]\n",
      "[2, 3, 5, 6, 7, 8]\n",
      "[2, 3, 5, 6, 7, 8]\n"
     ]
    }
   ],
   "source": [
    "#71_Selection Sort using Python\n",
    "\n",
    "def sort(nums):\n",
    "\n",
    "    for i in range(6):\n",
    "        minpos = i\n",
    "        for j in range(i,6):\n",
    "            if nums[j] < nums[minpos]:\n",
    "                minpos = j\n",
    "\n",
    "\n",
    "        temp = nums[i]\n",
    "        nums[i] = nums[minpos]\n",
    "        nums[minpos] = temp\n",
    "\n",
    "        print(nums)\n",
    "\n",
    "\n",
    "nums = [5, 3, 8, 6, 7, 2]\n",
    "sort(nums)\n",
    "\n",
    "print(nums)"
   ]
  },
  {
   "cell_type": "code",
   "execution_count": null,
   "metadata": {},
   "outputs": [],
   "source": [
    "#72_MySQL Workbench Setup | Python Database Connection \n",
    " #connect python with database. need external databas for store the data longer time \n",
    " "
   ]
  },
  {
   "cell_type": "code",
   "execution_count": 26,
   "metadata": {},
   "outputs": [
    {
     "name": "stdout",
     "output_type": "stream",
     "text": [
      "MySQL Database connection successful\n"
     ]
    }
   ],
   "source": [
    "#73 Python Database Connection | MySQL\n",
    "\n",
    "#import libraries\n",
    "import mysql.connector\n",
    "from mysql.connector import Error\n",
    "import pandas as pd\n",
    "\n",
    "def create_server_connection(host_name, user_name, user_password):\n",
    "    connection = None\n",
    "    try:\n",
    "        connection = mysql.connector.connect(\n",
    "            host=host_name,\n",
    "            user=user_name,\n",
    "            passwd=user_password,\n",
    "        )\n",
    "        print(\"MySQL Database connection successful\")\n",
    "    except Error as err:\n",
    "        print(f\"Error: '{err}'\")\n",
    "    return connection\n",
    "\n",
    "# put MySQL terminal password (when we installing mysql workbench)\n",
    "pw = \"ictconvergence\"\n",
    "\n",
    "# database name\n",
    "db = \"mysql_python\"\n",
    "connection = create_server_connection(\"localhost\", \"root\", pw)"
   ]
  },
  {
   "cell_type": "code",
   "execution_count": null,
   "metadata": {},
   "outputs": [],
   "source": []
  },
  {
   "cell_type": "code",
   "execution_count": null,
   "metadata": {},
   "outputs": [],
   "source": [
    "#74 Python | Git | VScode | GitHub"
   ]
  },
  {
   "cell_type": "code",
   "execution_count": null,
   "metadata": {},
   "outputs": [],
   "source": []
  }
 ],
 "metadata": {
  "kernelspec": {
   "display_name": "Python 3",
   "language": "python",
   "name": "python3"
  },
  "language_info": {
   "codemirror_mode": {
    "name": "ipython",
    "version": 3
   },
   "file_extension": ".py",
   "mimetype": "text/x-python",
   "name": "python",
   "nbconvert_exporter": "python",
   "pygments_lexer": "ipython3",
   "version": "3.9.13"
  }
 },
 "nbformat": 4,
 "nbformat_minor": 2
}
